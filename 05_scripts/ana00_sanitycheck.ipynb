{
 "cells": [
  {
   "cell_type": "code",
   "execution_count": 1,
   "id": "982339e0",
   "metadata": {},
   "outputs": [],
   "source": [
    "import pyxdf\n",
    "import os\n",
    "import numpy as np\n",
    "from scipy import stats\n",
    "from pathlib import Path\n",
    "import sys\n",
    "import datetime\n",
    "\n",
    "from utilities.utl import find_lsl_stream, find_nearest\n",
    "from utilities.pupil_prep import *\n",
    "from utilities.SingleSubjectData import SingleSubjectArcherRep"
   ]
  },
  {
   "cell_type": "code",
   "execution_count": 19,
   "id": "53d6ba09",
   "metadata": {},
   "outputs": [
    {
     "name": "stdout",
     "output_type": "stream",
     "text": [
      "C:\\Users\\User\\Desktop\\kiel\\tremor_feedback_jw\\05_scripts\n"
     ]
    }
   ],
   "source": [
    "# (import) helper functions\n",
    "dir_script = Path(\"__file__\").parent.absolute()\n",
    "dir_rawdata = Path.joinpath(dir_script.parent.absolute(), \"04_data\",\"00_raw\")\n",
    "print(dir_script)"
   ]
  },
  {
   "cell_type": "code",
   "execution_count": 24,
   "id": "ab86d753",
   "metadata": {},
   "outputs": [
    {
     "name": "stdout",
     "output_type": "stream",
     "text": [
      "Working on p202\n"
     ]
    }
   ],
   "source": [
    "f_list = os.listdir(DATARAWPATH)\n",
    "str_match = 'archer'\n",
    "fnms = [s for s in f_list if str_match in s]\n",
    "f = fnms[12]\n",
    "print(f\"Working on {f.split('_')[0]}\")"
   ]
  },
  {
   "cell_type": "code",
   "execution_count": 26,
   "id": "28c6194d",
   "metadata": {},
   "outputs": [
    {
     "name": "stdout",
     "output_type": "stream",
     "text": [
      "Max force is 4625 something\n"
     ]
    }
   ],
   "source": [
    "# init class and load streams\n",
    "sub = SingleSubjectArcherRep()\n",
    "sub.load_data(dir_rawdata,f)\n",
    "\n",
    "streams, _ = pyxdf.load_xdf(os.path.join(DATARAWPATH,f))\n",
    "fsr  = find_lsl_stream(streams, 'HX711')\n",
    "mrk = find_lsl_stream(streams, 'PsychoPyMarkers')\n",
    "eye = find_lsl_stream(streams, 'pupil_capture')"
   ]
  },
  {
   "cell_type": "code",
   "execution_count": 27,
   "id": "931d4da2",
   "metadata": {},
   "outputs": [],
   "source": [
    "sub_id = f.split('_')[0]\n",
    "fname = f\n",
    "date = datetime.datetime.fromtimestamp(int(float(Path(os.path.join(DATARAWPATH,f)).stat().st_ctime))).date()\n",
    "time = datetime.datetime.fromtimestamp(int(float(Path(os.path.join(DATARAWPATH,f)).stat().st_ctime))).time()"
   ]
  },
  {
   "cell_type": "code",
   "execution_count": 38,
   "id": "6c4ab384",
   "metadata": {},
   "outputs": [
    {
     "name": "stdout",
     "output_type": "stream",
     "text": [
      "Max force is 4625\n"
     ]
    }
   ],
   "source": [
    "try:\n",
    "    nms_mrk = [nm_mrk for mrk_ in mrk[\"time_series\"] for nm_mrk in mrk_]\n",
    "    max_f = float([nm for nm in nms_mrk if nm.startswith('max_force')][0].split('_')[2])\n",
    "    print(f\"Max force is {max_f:.0f}\")\n",
    "except:\n",
    "    max_f = 0\n",
    "    print(\"No max force found\")"
   ]
  },
  {
   "cell_type": "code",
   "execution_count": 43,
   "id": "57a328b1",
   "metadata": {},
   "outputs": [
    {
     "name": "stdout",
     "output_type": "stream",
     "text": [
      "14/14 epochs found\n"
     ]
    }
   ],
   "source": [
    "# epoch data\n",
    "idxs_eps_end = [i for i,nm in enumerate(nms_mrk) if 'end_trial' in nm]\n",
    "times_eps_end = mrk['time_stamps'][idxs_eps_end]\n",
    "\n",
    "print(f\"{len(idxs_eps_end)}/14 epochs found\")"
   ]
  },
  {
   "cell_type": "code",
   "execution_count": 44,
   "id": "d4e5ebdd",
   "metadata": {},
   "outputs": [
    {
     "name": "stdout",
     "output_type": "stream",
     "text": [
      "Apply confidence threshold\n",
      "number of low-confidence data points:  15571\n",
      "proportion of low-confidence data points: 0.06\n",
      "Delete diameter velocity outliers (sliding window)\n",
      "number of detected outliers:  0\n",
      "proportion of detected outliers: 0.00\n",
      "Total proportion of deleted (NaN) data points: 0.184\n"
     ]
    }
   ],
   "source": [
    "# eye tracking data\n",
    "nms_label_pupillab =[nm_lb['label'][0] for nm_lb in eye['info']['desc'][0]['channels'][0]['channel']]\n",
    "\n",
    "idx_diam0_3d =  nms_label_pupillab.index('diameter0_3d')\n",
    "idx_diam1_3d =  nms_label_pupillab.index('diameter1_3d')\n",
    "idx_conf =  nms_label_pupillab.index('confidence')\n",
    "\n",
    "# (1) confidence threshold\n",
    "idx_conf, _ = confidence_threshold(eye['time_series'][:,idx_diam0_3d], eye['time_series'][:,idx_conf], thr=0.5, doplot=False)\n",
    "# (2) delete diameter velocity outliers\n",
    "idx_vout, _ = delete_velocity_outliers(eye['time_series'][:,idx_diam0_3d], whsize=10, n_mad=3, doplot=False)\n",
    "# (3) eyeblink detection (Hershman et al.)\n",
    "idx_blinks, _ = blink_detection(eye['time_series'][:,idx_diam0_3d], w_smooth=9, doplot=False)\n",
    "\n",
    "# apply all deletions\n",
    "diam = eye['time_series'][:,idx_diam0_3d]\n",
    "diam_corr = diam.copy()\n",
    "idx_corr = list(idx_conf) + list(idx_vout) + list(idx_blinks)\n",
    "idx_corr = list(set(idx_corr))\n",
    "diam_corr[idx_corr] = np.nan\n",
    "p_corr = 1.*len(idx_corr)/len(diam)\n",
    "print(f\"Total proportion of deleted (NaN) data points: {p_corr:.3f}\")"
   ]
  }
 ],
 "metadata": {
  "kernelspec": {
   "display_name": "trmr_fdck",
   "language": "python",
   "name": "trmr_fdck"
  },
  "language_info": {
   "codemirror_mode": {
    "name": "ipython",
    "version": 3
   },
   "file_extension": ".py",
   "mimetype": "text/x-python",
   "name": "python",
   "nbconvert_exporter": "python",
   "pygments_lexer": "ipython3",
   "version": "3.8.13"
  }
 },
 "nbformat": 4,
 "nbformat_minor": 5
}
