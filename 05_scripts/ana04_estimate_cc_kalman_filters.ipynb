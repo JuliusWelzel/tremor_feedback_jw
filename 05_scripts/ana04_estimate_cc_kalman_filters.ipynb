{
 "cells": [
  {
   "cell_type": "code",
   "execution_count": 1,
   "id": "37a5ddce",
   "metadata": {},
   "outputs": [],
   "source": [
    "import cv2\n",
    "import numpy as np\n",
    "import os\n",
    "from matplotlib import pyplot as plt\n",
    "import pyxdf\n",
    "import sys\n",
    "from scipy import signal, stats"
   ]
  },
  {
   "cell_type": "code",
   "execution_count": 6,
   "id": "35c934fc",
   "metadata": {},
   "outputs": [],
   "source": [
    "## (import) helper functions\n",
    "\n",
    "sys.path.append('..') # add parent dir for full project access\n",
    "f_ = os.listdir('../04_data/00_raw')\n",
    "fnms = [f for f in os.listdir('../04_data/00_raw') if f.endswith('.xdf')]+"
   ]
  },
  {
   "cell_type": "code",
   "execution_count": 7,
   "id": "a60d746c",
   "metadata": {},
   "outputs": [
    {
     "data": {
      "text/plain": [
       "['p100_isometric_tremor_fly.xdf',\n",
       " 'p100_isometric_tremor_loud.xdf',\n",
       " 'p101_isometric_tremor_fly.xdf',\n",
       " 'p101_isometric_tremor_loud.xdf',\n",
       " 'p102_isometric_tremor_fly.xdf',\n",
       " 'p102_isometric_tremor_loud.xdf',\n",
       " 'p103_isometric_tremor_fly.xdf',\n",
       " 'p103_isometric_tremor_loud.xdf',\n",
       " 'p104_isometric_tremor_fly.xdf',\n",
       " 'p104_isometric_tremor_loud.xdf',\n",
       " 'p105_isometric_tremor_fly.xdf',\n",
       " 'p105_isometric_tremor_loud.xdf',\n",
       " 'p106_isometric_tremor_fly.xdf',\n",
       " 'p106_isometric_tremor_loud.xdf',\n",
       " 'p107_isometric_tremor_fly.xdf',\n",
       " 'p107_isometric_tremor_loud.xdf',\n",
       " 'p108_isometric_tremor_fly.xdf',\n",
       " 'p108_isometric_tremor_loud.xdf',\n",
       " 'p109_isometric_tremor_fly.xdf',\n",
       " 'p109_isometric_tremor_loud.xdf',\n",
       " 'p110_isometric_tremor_loud.xdf',\n",
       " 'p111_isometric_tremor_loud.xdf',\n",
       " 'p112_isometric_tremor_fly.xdf',\n",
       " 'p112_isometric_tremor_loud.xdf',\n",
       " 'p113_isometric_tremor_fly.xdf',\n",
       " 'p113_isometric_tremor_loud.xdf',\n",
       " 'p113_isometric_tremor_loud_old1.xdf',\n",
       " 'p114_isometric_tremor_fly.xdf',\n",
       " 'p114_isometric_tremor_loud.xdf',\n",
       " 'p115_isometric_tremor_fly.xdf',\n",
       " 'p115_isometric_tremor_loud.xdf',\n",
       " 'p116_isometric_tremor_fly.xdf',\n",
       " 'p116_isometric_tremor_loud.xdf',\n",
       " 'p117_isometric_tremor_loud.xdf',\n",
       " 'p118_isometric_tremor_fly.xdf',\n",
       " 'p118_isometric_tremor_loud.xdf',\n",
       " 'p119_isometric_tremor_fly.xdf',\n",
       " 'p119_isometric_tremor_loud.xdf',\n",
       " 'p120_isometric_tremor_fly.xdf',\n",
       " 'p120_isometric_tremor_loud.xdf',\n",
       " 'p121_isometric_tremor_fly.xdf',\n",
       " 'p121_isometric_tremor_loud.xdf',\n",
       " 'p200_archer_replicate.xdf',\n",
       " 'p200_isometric_tremor_fly.xdf',\n",
       " 'p201_archer_replicate.xdf',\n",
       " 'p201_isometric_tremor_fly.xdf',\n",
       " 'p202_archer_replicate.xdf',\n",
       " 'p203_archer_replicate.xdf',\n",
       " 'p203_isometric_tremor_fly.xdf',\n",
       " 'p204_archer_replicate.xdf',\n",
       " 'p204_isometric_tremor_fly.xdf',\n",
       " 'p205_archer_replicate.xdf',\n",
       " 'p205_isometric_tremor_fly.xdf',\n",
       " 'p206_archer_replicate.xdf',\n",
       " 'p207_archer_replicate.xdf',\n",
       " 'p207_isometric_tremor_fly.xdf',\n",
       " 'p208_archer_replicate.xdf',\n",
       " 'p208_isometric_tremor_fly.xdf',\n",
       " 'p209_archer_replicate.xdf',\n",
       " 'p209_isometric_tremor_fly.xdf',\n",
       " 'p210_archer_replicate.xdf',\n",
       " 'p210_isometric_tremor_fly.xdf',\n",
       " 'p211_archer_replicate.xdf',\n",
       " 'p212_archer_replicate.xdf',\n",
       " 'p213_archer_replicate.xdf',\n",
       " 'p300_archer_replicate.xdf',\n",
       " 'pat_rekrutierung_21_07_05_mg.xlsx',\n",
       " 'test']"
      ]
     },
     "metadata": {},
     "output_type": "display_data"
    }
   ],
   "source": [
    "display(f_)"
   ]
  },
  {
   "cell_type": "code",
   "execution_count": null,
   "id": "8ac7923f",
   "metadata": {},
   "outputs": [],
   "source": [
    "## find all files\n",
    "\n",
    "\n",
    "# load xdf file\n",
    "streams, hd = pyxdf.load_xdf(os.path.join('..','data','test_patient_action.xdf'))\n",
    "ts_imu  = findLslStream(streams, 'MPU6050LSL')\n",
    "mrk_cam = findLslStream(streams, 'CameraMarker')"
   ]
  }
 ],
 "metadata": {
  "kernelspec": {
   "display_name": "Python 3",
   "language": "python",
   "name": "python3"
  },
  "language_info": {
   "codemirror_mode": {
    "name": "ipython",
    "version": 3
   },
   "file_extension": ".py",
   "mimetype": "text/x-python",
   "name": "python",
   "nbconvert_exporter": "python",
   "pygments_lexer": "ipython3",
   "version": "3.8.8"
  }
 },
 "nbformat": 4,
 "nbformat_minor": 5
}
