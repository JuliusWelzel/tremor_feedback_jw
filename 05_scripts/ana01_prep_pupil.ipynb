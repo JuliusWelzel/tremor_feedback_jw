{
 "cells": [
  {
   "cell_type": "code",
   "execution_count": 13,
   "id": "1d0edf4c",
   "metadata": {},
   "outputs": [],
   "source": [
    "%reload_ext autoreload\n",
    "%autoreload 2\n",
    "import pyxdf\n",
    "import os\n",
    "import numpy as np\n",
    "from scipy import stats\n",
    "from pathlib import Path\n",
    "import sys\n",
    "from datetime import datetime\n",
    "import pandas as pd\n",
    "import seaborn\n",
    "\n",
    "from utilities.utl import find_lsl_stream, find_nearest\n",
    "from utilities.pupil_prep import *\n",
    "from utilities.SingleSubjectData import SubjectData, Epochs\n",
    "import importlib\n"
   ]
  },
  {
   "cell_type": "code",
   "execution_count": 9,
   "id": "fd81c9c9",
   "metadata": {},
   "outputs": [
    {
     "name": "stdout",
     "output_type": "stream",
     "text": [
      "c:\\Users\\User\\Desktop\\kiel\\tremor_feedback_jw\\05_scripts\n"
     ]
    }
   ],
   "source": [
    "# (import) helper functions\n",
    "dir_script = Path(\"__file__\").parent.absolute()\n",
    "dir_rawdata = Path.joinpath(dir_script.parent.absolute(), \"04_data\",\"00_raw\")\n",
    "print(dir_script)"
   ]
  },
  {
   "cell_type": "code",
   "execution_count": 10,
   "id": "e1b84728",
   "metadata": {},
   "outputs": [
    {
     "name": "stdout",
     "output_type": "stream",
     "text": [
      "['c300', 'c301', 'c302', 'c303', 'c304', 'c305', 'c306', 'c307', 'c308', 'c309', 'c310', 'p200', 'p201', 'p202', 'p203', 'p204', 'p205', 'p206', 'p207', 'p208', 'p209', 'p210', 'p211', 'p212', 'p213', 'p214', 'p215']\n"
     ]
    }
   ],
   "source": [
    "f_list = os.listdir(dir_rawdata)\n",
    "str_match = 'archer'\n",
    "fnms = [s for s in f_list if str_match in s]\n",
    "print([f.split('_')[0] for f in fnms])"
   ]
  },
  {
   "cell_type": "code",
   "execution_count": 17,
   "id": "b3b72015",
   "metadata": {},
   "outputs": [
    {
     "name": "stdout",
     "output_type": "stream",
     "text": [
      "c305\n",
      "Max force is 8067 something\n",
      "30.00005819136277\n",
      "30.000053691328503\n",
      "30.000054291449487\n",
      "30.000101691344753\n",
      "30.000054991338402\n",
      "30.00005869148299\n",
      "30.000048791407607\n",
      "30.000055691460148\n",
      "30.00006609153934\n",
      "30.000058091478422\n",
      "30.00005629158113\n",
      "30.000057791476138\n"
     ]
    },
    {
     "ename": "TypeError",
     "evalue": "Epochs.__init__() missing 1 required positional argument: 'data'",
     "output_type": "error",
     "traceback": [
      "\u001b[1;31m---------------------------------------------------------------------------\u001b[0m",
      "\u001b[1;31mTypeError\u001b[0m                                 Traceback (most recent call last)",
      "\u001b[1;32mc:\\Users\\User\\Desktop\\kiel\\tremor_feedback_jw\\05_scripts\\ana01_prep_pupil.ipynb Zelle 4\u001b[0m in \u001b[0;36m<cell line: 9>\u001b[1;34m()\u001b[0m\n\u001b[0;32m      <a href='vscode-notebook-cell:/c%3A/Users/User/Desktop/kiel/tremor_feedback_jw/05_scripts/ana01_prep_pupil.ipynb#ch0000003?line=5'>6</a>\u001b[0m sub\u001b[39m.\u001b[39mprep_pupil()\n\u001b[0;32m      <a href='vscode-notebook-cell:/c%3A/Users/User/Desktop/kiel/tremor_feedback_jw/05_scripts/ana01_prep_pupil.ipynb#ch0000003?line=7'>8</a>\u001b[0m ev \u001b[39m=\u001b[39m sub\u001b[39m.\u001b[39mmrk[\u001b[39m\"\u001b[39m\u001b[39mtime_series\u001b[39m\u001b[39m\"\u001b[39m]\n\u001b[1;32m----> <a href='vscode-notebook-cell:/c%3A/Users/User/Desktop/kiel/tremor_feedback_jw/05_scripts/ana01_prep_pupil.ipynb#ch0000003?line=8'>9</a>\u001b[0m eps \u001b[39m=\u001b[39m Epochs()\n",
      "\u001b[1;31mTypeError\u001b[0m: Epochs.__init__() missing 1 required positional argument: 'data'"
     ]
    }
   ],
   "source": [
    "sub = SubjectData()\n",
    "f = fnms[5]\n",
    "print(f.split('_')[0])\n",
    "sub.load_data(dir_rawdata,f)\n",
    "\n",
    "sub.prep_pupil()\n",
    "    \n",
    "ev = sub.mrk[\"time_series\"]\n"
   ]
  },
  {
   "cell_type": "code",
   "execution_count": 58,
   "id": "382191e8",
   "metadata": {},
   "outputs": [
    {
     "data": {
      "text/plain": [
       "list"
      ]
     },
     "execution_count": 58,
     "metadata": {},
     "output_type": "execute_result"
    }
   ],
   "source": [
    "data = np.asanyarray(sub.eye[\"time_series\"],np.float64)\n",
    "times = np.asanyarray(sub.eye[\"time_stamps\"],np.float64)\n",
    "\n",
    "events = sub.mrk[\"time_series\"]\n",
    "type(events)\n"
   ]
  },
  {
   "cell_type": "code",
   "execution_count": 44,
   "id": "43f9a8a9",
   "metadata": {},
   "outputs": [
    {
     "ename": "AttributeError",
     "evalue": "Specify events to epoch the data in event_id",
     "output_type": "error",
     "traceback": [
      "\u001b[1;31m---------------------------------------------------------------------------\u001b[0m",
      "\u001b[1;31mAttributeError\u001b[0m                            Traceback (most recent call last)",
      "\u001b[1;32mc:\\Users\\User\\Desktop\\kiel\\tremor_feedback_jw\\05_scripts\\ana01_prep_pupil.ipynb Zelle 6\u001b[0m in \u001b[0;36m<cell line: 1>\u001b[1;34m()\u001b[0m\n\u001b[1;32m----> <a href='vscode-notebook-cell:/c%3A/Users/User/Desktop/kiel/tremor_feedback_jw/05_scripts/ana01_prep_pupil.ipynb#ch0000004?line=0'>1</a>\u001b[0m eps \u001b[39m=\u001b[39m Epochs(sub\u001b[39m.\u001b[39;49meye[\u001b[39m\"\u001b[39;49m\u001b[39mtime_series\u001b[39;49m\u001b[39m\"\u001b[39;49m],times\u001b[39m=\u001b[39;49msub\u001b[39m.\u001b[39;49meye[\u001b[39m\"\u001b[39;49m\u001b[39mtime_stamps\u001b[39;49m\u001b[39m\"\u001b[39;49m], events\u001b[39m=\u001b[39;49msub\u001b[39m.\u001b[39;49mmrk)\n",
      "File \u001b[1;32mc:\\users\\user\\desktop\\kiel\\tremor_feedback_jw\\utilities\\SingleSubjectData.py:135\u001b[0m, in \u001b[0;36m__init__\u001b[1;34m(self, data, times, events, event_id)\u001b[0m\n\u001b[0;32m    133\u001b[0m self.id = fname.split('_')[0]\n\u001b[0;32m    134\u001b[0m self.date = datetime.datetime.fromtimestamp(int(float(Path(os.path.join(datapath,fname)).stat().st_ctime))).date()\n\u001b[1;32m--> 135\u001b[0m self.time = datetime.datetime.fromtimestamp(int(float(Path(os.path.join(datapath,fname)).stat().st_ctime))).time()\n\u001b[0;32m    136\u001b[0m \n\u001b[0;32m    137\u001b[0m streams, _ = pyxdf.load_xdf(os.path.join(datapath,fname))\n",
      "\u001b[1;31mAttributeError\u001b[0m: Specify events to epoch the data in event_id"
     ]
    }
   ],
   "source": [
    "eps = Epochs(sub.eye[\"time_series\"],times=sub.eye[\"time_stamps\"], events=sub.mrk)\n",
    "\n"
   ]
  }
 ],
 "metadata": {
  "kernelspec": {
   "display_name": "Python 3.10.4 ('venv_tremor_feedback')",
   "language": "python",
   "name": "python3"
  },
  "language_info": {
   "codemirror_mode": {
    "name": "ipython",
    "version": 3
   },
   "file_extension": ".py",
   "mimetype": "text/x-python",
   "name": "python",
   "nbconvert_exporter": "python",
   "pygments_lexer": "ipython3",
   "version": "3.10.4"
  },
  "vscode": {
   "interpreter": {
    "hash": "ab9604f0a091bdb4ec6cc318eb9e4c1fbbcbff0881ac997b996efff61597bbb6"
   }
  }
 },
 "nbformat": 4,
 "nbformat_minor": 5
}
