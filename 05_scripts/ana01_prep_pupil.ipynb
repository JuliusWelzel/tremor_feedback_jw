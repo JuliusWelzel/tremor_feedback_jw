{
 "cells": [
  {
   "cell_type": "code",
   "execution_count": 1,
   "id": "1d0edf4c",
   "metadata": {},
   "outputs": [],
   "source": [
    "%reload_ext autoreload\n",
    "%autoreload 2\n",
    "import pyxdf\n",
    "import os\n",
    "import numpy as np\n",
    "from scipy import stats\n",
    "from pathlib import Path\n",
    "import sys\n",
    "from datetime import datetime\n",
    "import pandas as pd\n",
    "import seaborn\n",
    "\n",
    "from utilities.utl import find_lsl_stream, find_nearest\n",
    "from utilities.pupil_prep import *\n",
    "from utilities.SingleSubjectData import SubjectData, Epochs\n",
    "import importlib\n"
   ]
  },
  {
   "cell_type": "code",
   "execution_count": 2,
   "id": "fd81c9c9",
   "metadata": {},
   "outputs": [
    {
     "name": "stdout",
     "output_type": "stream",
     "text": [
      "c:\\Users\\User\\Desktop\\kiel\\tremor_feedback_jw\\05_scripts\n"
     ]
    }
   ],
   "source": [
    "# (import) helper functions\n",
    "dir_script = Path(\"__file__\").parent.absolute()\n",
    "dir_rawdata = Path.joinpath(dir_script.parent.absolute(), \"04_data\",\"00_raw\")\n",
    "print(dir_script)"
   ]
  },
  {
   "cell_type": "code",
   "execution_count": 4,
   "id": "e1b84728",
   "metadata": {},
   "outputs": [
    {
     "name": "stdout",
     "output_type": "stream",
     "text": [
      "['c300', 'c301', 'c302', 'c303', 'c304', 'c305', 'c306', 'c307', 'c308', 'c309', 'c310', 'p200', 'p201', 'p202', 'p203', 'p204', 'p205', 'p206', 'p207', 'p208', 'p209', 'p210', 'p211', 'p212', 'p213', 'p214', 'p215']\n"
     ]
    }
   ],
   "source": [
    "f_list = os.listdir(dir_rawdata)\n",
    "str_match = 'archer'\n",
    "fnms = [s for s in f_list if str_match in s]\n",
    "print([f.split('_')[0] for f in fnms])"
   ]
  },
  {
   "cell_type": "code",
   "execution_count": 65,
   "id": "b3b72015",
   "metadata": {},
   "outputs": [
    {
     "name": "stdout",
     "output_type": "stream",
     "text": [
      "c305\n",
      "Max force is 8067 something\n",
      "30.00005819136277\n",
      "30.000053691328503\n",
      "30.000054291449487\n",
      "30.000101691344753\n",
      "30.000054991338402\n",
      "30.00005869148299\n",
      "30.000048791407607\n",
      "30.000055691460148\n",
      "30.00006609153934\n",
      "30.000058091478422\n",
      "30.00005629158113\n",
      "30.000057791476138\n"
     ]
    }
   ],
   "source": [
    "sub = SubjectData()\n",
    "f = fnms[5]\n",
    "print(f.split('_')[0])\n",
    "sub.load_data(dir_rawdata,f)\n",
    "\n",
    "sub.prep_pupil()\n",
    "    \n",
    "\n"
   ]
  },
  {
   "cell_type": "code",
   "execution_count": 33,
   "id": "382191e8",
   "metadata": {},
   "outputs": [
    {
     "data": {
      "text/plain": [
       "list"
      ]
     },
     "execution_count": 33,
     "metadata": {},
     "output_type": "execute_result"
    }
   ],
   "source": [
    "\n"
   ]
  },
  {
   "cell_type": "code",
   "execution_count": 192,
   "id": "43f9a8a9",
   "metadata": {},
   "outputs": [
    {
     "name": "stdout",
     "output_type": "stream",
     "text": [
      "[-173.48649705] 12\n"
     ]
    }
   ],
   "source": [
    "eps = Epochs(sub,sub.eye[\"time_series\"],times=sub.eye[\"time_stamps\"], events=sub.mrk, srate = sub.srate_ppl)\n",
    "idx_exp_start   = eps.events[eps.events[\"value\"].str.match('block1')].index[0]\n",
    "eps.epoch('end_trial', idx_start=idx_exp_start,srate=sub.srate_ppl)"
   ]
  },
  {
   "cell_type": "code",
   "execution_count": 197,
   "id": "e2cbc6b0",
   "metadata": {},
   "outputs": [
    {
     "ename": "AttributeError",
     "evalue": "'numpy.ndarray' object has no attribute 'absolute'",
     "output_type": "error",
     "traceback": [
      "\u001b[1;31m---------------------------------------------------------------------------\u001b[0m",
      "\u001b[1;31mAttributeError\u001b[0m                            Traceback (most recent call last)",
      "\u001b[1;32mc:\\Users\\User\\Desktop\\kiel\\tremor_feedback_jw\\05_scripts\\ana01_prep_pupil.ipynb Zelle 7\u001b[0m in \u001b[0;36m<cell line: 5>\u001b[1;34m()\u001b[0m\n\u001b[0;32m      <a href='vscode-notebook-cell:/c%3A/Users/User/Desktop/kiel/tremor_feedback_jw/05_scripts/ana01_prep_pupil.ipynb#ch0000006?line=1'>2</a>\u001b[0m idx_exp_start   \u001b[39m=\u001b[39m eps\u001b[39m.\u001b[39mevents[eps\u001b[39m.\u001b[39mevents[\u001b[39m\"\u001b[39m\u001b[39mvalue\u001b[39m\u001b[39m\"\u001b[39m]\u001b[39m.\u001b[39mstr\u001b[39m.\u001b[39mmatch(\u001b[39m'\u001b[39m\u001b[39mblock1\u001b[39m\u001b[39m'\u001b[39m)]\u001b[39m.\u001b[39mindex[\u001b[39m0\u001b[39m]\n\u001b[0;32m      <a href='vscode-notebook-cell:/c%3A/Users/User/Desktop/kiel/tremor_feedback_jw/05_scripts/ana01_prep_pupil.ipynb#ch0000006?line=3'>4</a>\u001b[0m n_epochs \u001b[39m=\u001b[39m \u001b[39mlen\u001b[39m(idx_event_id_match)\n\u001b[1;32m----> <a href='vscode-notebook-cell:/c%3A/Users/User/Desktop/kiel/tremor_feedback_jw/05_scripts/ana01_prep_pupil.ipynb#ch0000006?line=4'>5</a>\u001b[0m n_samples_epoch \u001b[39m=\u001b[39m np\u001b[39m.\u001b[39;49mdiff([t2,t1])\u001b[39m.\u001b[39;49mabsolute() \u001b[39m*\u001b[39m \u001b[39m500\u001b[39m\n\u001b[0;32m      <a href='vscode-notebook-cell:/c%3A/Users/User/Desktop/kiel/tremor_feedback_jw/05_scripts/ana01_prep_pupil.ipynb#ch0000006?line=5'>6</a>\u001b[0m data_epoched \u001b[39m=\u001b[39m np\u001b[39m.\u001b[39mones(shape\u001b[39m=\u001b[39m(eps\u001b[39m.\u001b[39mdata\u001b[39m.\u001b[39mshape[\u001b[39m0\u001b[39m],\u001b[39mint\u001b[39m(n_samples_epoch),n_epochs))\n",
      "\u001b[1;31mAttributeError\u001b[0m: 'numpy.ndarray' object has no attribute 'absolute'"
     ]
    }
   ],
   "source": [
    "idxs_eps_end    = eps.events[eps.events[\"value\"].str.match('end_trial')].index\n",
    "idx_exp_start   = eps.events[eps.events[\"value\"].str.match('block1')].index[0]\n",
    "\n",
    "n_epochs = len(idx_event_id_match)\n",
    "n_samples_epoch = np.absolute(np.diff([t2,t1])) * 500\n",
    "data_epoched = np.ones(shape=(eps.data.shape[0],int(n_samples_epoch),n_epochs))"
   ]
  },
  {
   "cell_type": "code",
   "execution_count": 186,
   "metadata": {},
   "outputs": [],
   "source": [
    "idx_event_id_match = eps.events[eps.events[\"value\"].str.match('end_trial')].index\n",
    "\n",
    "ts_ep_events = eps.events[\"time\"][idx_event_id_match]\n",
    "\n",
    "t1 = -.3\n",
    "t2 = .8\n",
    "a = np.diff([t1,t2]) * 500\n",
    "b = np.ones(shape=(2,int(a)))"
   ]
  }
 ],
 "metadata": {
  "kernelspec": {
   "display_name": "Python 3.10.4 ('venv_tremor_feedback')",
   "language": "python",
   "name": "python3"
  },
  "language_info": {
   "codemirror_mode": {
    "name": "ipython",
    "version": 3
   },
   "file_extension": ".py",
   "mimetype": "text/x-python",
   "name": "python",
   "nbconvert_exporter": "python",
   "pygments_lexer": "ipython3",
   "version": "3.10.4"
  },
  "vscode": {
   "interpreter": {
    "hash": "ab9604f0a091bdb4ec6cc318eb9e4c1fbbcbff0881ac997b996efff61597bbb6"
   }
  }
 },
 "nbformat": 4,
 "nbformat_minor": 5
}
