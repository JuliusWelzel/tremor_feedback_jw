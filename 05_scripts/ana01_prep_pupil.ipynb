{
 "cells": [
  {
   "cell_type": "code",
   "execution_count": 25,
   "id": "1d0edf4c",
   "metadata": {},
   "outputs": [],
   "source": [
    "import pyxdf\n",
    "import os\n",
    "import numpy as np\n",
    "from scipy import stats\n",
    "from pathlib import Path\n",
    "import sys\n",
    "from datetime import datetime\n",
    "import pandas as pd\n",
    "import seaborn\n",
    "\n",
    "from utilities.utl import find_lsl_stream, find_nearest\n",
    "from utilities.pupil_prep import *\n",
    "from utilities.SingleSubjectData import SubjectData \n",
    "import importlib\n"
   ]
  },
  {
   "cell_type": "code",
   "execution_count": 17,
   "id": "fd81c9c9",
   "metadata": {},
   "outputs": [
    {
     "name": "stdout",
     "output_type": "stream",
     "text": [
      "c:\\Users\\User\\Desktop\\kiel\\tremor_feedback_jw\\05_scripts\n"
     ]
    }
   ],
   "source": [
    "# (import) helper functions\n",
    "dir_script = Path(\"__file__\").parent.absolute()\n",
    "dir_rawdata = Path.joinpath(dir_script.parent.absolute(), \"04_data\",\"00_raw\")\n",
    "print(dir_script)"
   ]
  },
  {
   "cell_type": "code",
   "execution_count": 18,
   "id": "e1b84728",
   "metadata": {},
   "outputs": [
    {
     "name": "stdout",
     "output_type": "stream",
     "text": [
      "['c300', 'c301', 'c302', 'c303', 'c304', 'c305', 'c306', 'c307', 'c308', 'c309', 'c310', 'p200', 'p201', 'p202', 'p203', 'p204', 'p205', 'p206', 'p207', 'p208', 'p209', 'p210', 'p211', 'p212', 'p213', 'p214', 'p215']\n"
     ]
    }
   ],
   "source": [
    "f_list = os.listdir(dir_rawdata)\n",
    "str_match = 'archer'\n",
    "fnms = [s for s in f_list if str_match in s]\n",
    "print([f.split('_')[0] for f in fnms])"
   ]
  },
  {
   "cell_type": "code",
   "execution_count": 36,
   "id": "b3b72015",
   "metadata": {},
   "outputs": [
    {
     "name": "stdout",
     "output_type": "stream",
     "text": [
      "c305\n",
      "Max force is 8067 something\n",
      "14 completed epochs found\n",
      "7.000068861292675\n",
      "7.000065161380917\n",
      "30.00005819136277\n",
      "30.000053691328503\n",
      "30.000054291449487\n",
      "30.000101691344753\n",
      "30.000054991338402\n",
      "30.00005869148299\n",
      "30.000048791407607\n",
      "30.000055691460148\n",
      "30.00006609153934\n",
      "30.000058091478422\n",
      "30.00005629158113\n",
      "30.000057791476138\n"
     ]
    }
   ],
   "source": [
    "sub = SubjectData()\n",
    "f = fnms[5]\n",
    "print(f.split('_')[0])\n",
    "sub.load_data(dir_rawdata,f)\n",
    "sub.epoch()\n",
    "\n",
    "sub.prep_pupil()\n",
    "    "
   ]
  },
  {
   "cell_type": "code",
   "execution_count": 34,
   "id": "43f9a8a9",
   "metadata": {},
   "outputs": [
    {
     "data": {
      "text/plain": [
       "[['start_get_max_force_0'],\n",
       " ['end_max_force_block_0'],\n",
       " ['start_get_max_force_1'],\n",
       " ['end_max_force_block_1'],\n",
       " ['start_get_max_force_2'],\n",
       " ['end_max_force_block_2'],\n",
       " ['max_force_8067.0'],\n",
       " ['block0'],\n",
       " ['epoch_vo_start'],\n",
       " ['trial_start_sfb_0.4404698541258694_sfc_0.15'],\n",
       " ['end_trial'],\n",
       " ['epoch_vo_start'],\n",
       " ['trial_start_sfb_0.024776033520811546_sfc_0.15'],\n",
       " ['end_trial'],\n",
       " ['block1'],\n",
       " ['epoch_vo_start'],\n",
       " ['trial_start_sfb_0.024776033520811546_sfc_0.15'],\n",
       " ['end_trial'],\n",
       " ['epoch_vo_start'],\n",
       " ['trial_start_sfb_0.024776033520811546_sfc_0.15'],\n",
       " ['end_trial'],\n",
       " ['epoch_vo_start'],\n",
       " ['trial_start_sfb_0.4404698541258694_sfc_0.15'],\n",
       " ['end_trial'],\n",
       " ['epoch_vo_start'],\n",
       " ['trial_start_sfb_0.4404698541258694_sfc_0.15'],\n",
       " ['end_trial'],\n",
       " ['block1'],\n",
       " ['epoch_va_start'],\n",
       " ['trial_start_sfb_0.024776033520811546_sfc_0.15'],\n",
       " ['end_trial'],\n",
       " ['epoch_va_start'],\n",
       " ['trial_start_sfb_0.024776033520811546_sfc_0.15'],\n",
       " ['end_trial'],\n",
       " ['epoch_va_start'],\n",
       " ['trial_start_sfb_0.4404698541258694_sfc_0.15'],\n",
       " ['end_trial'],\n",
       " ['epoch_va_start'],\n",
       " ['trial_start_sfb_0.4404698541258694_sfc_0.15'],\n",
       " ['end_trial'],\n",
       " ['block1'],\n",
       " ['epoch_ao_start'],\n",
       " ['trial_start_sfb_0.024776033520811546_sfc_0.15'],\n",
       " ['end_trial'],\n",
       " ['epoch_ao_start'],\n",
       " ['trial_start_sfb_0.024776033520811546_sfc_0.15'],\n",
       " ['end_trial'],\n",
       " ['epoch_ao_start'],\n",
       " ['trial_start_sfb_0.4404698541258694_sfc_0.15'],\n",
       " ['end_trial'],\n",
       " ['epoch_ao_start'],\n",
       " ['trial_start_sfb_0.4404698541258694_sfc_0.15'],\n",
       " ['end_trial']]"
      ]
     },
     "execution_count": 34,
     "metadata": {},
     "output_type": "execute_result"
    }
   ],
   "source": [
    "sub.mrk[\"time_series\"]"
   ]
  },
  {
   "cell_type": "code",
   "execution_count": null,
   "id": "a14c1978",
   "metadata": {},
   "outputs": [],
   "source": [
    "# Now all data is loaded once and the pupil data is preprocessed according to Hermann ea.\n",
    "ovrvw_data = []\n",
    "for i,f in enumerate(fnms):\n",
    "    print(f\"Working on {f.split('_')[0]}\")\n",
    "    sub = SubjectData()\n",
    "    sub.load_data(dir_rawdata,f)\n",
    "    ovrvw_data.append(\n",
    "        {\n",
    "            'id': sub.id,\n",
    "            'date': sub.date,\n",
    "            'time': sub.time,\n",
    "            'fname': sub.fname,\n",
    "            'Max Force': sub.max_force,\n",
    "            'Number of epochs': sub.n_epochs,\n",
    "            'Number of trigger': sub.n_trigger,\n",
    "            'SRate PupilLabs': sub.srate_ppl,\n",
    "            '% bad eye data': sub.per_bad_eye\n",
    "        }\n",
    "    )\n",
    "    "
   ]
  }
 ],
 "metadata": {
  "kernelspec": {
   "display_name": "Python 3.10.4 ('venv_tremor_feedback')",
   "language": "python",
   "name": "python3"
  },
  "language_info": {
   "codemirror_mode": {
    "name": "ipython",
    "version": 3
   },
   "file_extension": ".py",
   "mimetype": "text/x-python",
   "name": "python",
   "nbconvert_exporter": "python",
   "pygments_lexer": "ipython3",
   "version": "3.10.4"
  },
  "vscode": {
   "interpreter": {
    "hash": "ab9604f0a091bdb4ec6cc318eb9e4c1fbbcbff0881ac997b996efff61597bbb6"
   }
  }
 },
 "nbformat": 4,
 "nbformat_minor": 5
}
