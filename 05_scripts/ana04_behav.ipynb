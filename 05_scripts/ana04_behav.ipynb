{
 "cells": [
  {
   "cell_type": "code",
   "execution_count": 1,
   "metadata": {},
   "outputs": [],
   "source": [
    "%reload_ext autoreload\n",
    "%autoreload 2\n",
    "import warnings\n",
    "warnings.filterwarnings('ignore')\n",
    "\n",
    "from pathlib import Path\n",
    "import numpy as np\n",
    "from scipy import stats\n",
    "import sys\n",
    "from datetime import datetime\n",
    "import pandas as pd\n",
    "import seaborn as sns\n",
    "import matplotlib.pyplot as plt\n",
    "from tueplots import axes, bundles\n",
    "\n",
    "# Increase the resolution of all the plots below\n",
    "bundles.beamer_moml()\n",
    "plt.rcParams.update({\"figure.dpi\": 200,\"figure.facecolor\":\"w\",\"figure.figsize\": (15,10)})\n",
    "\n",
    "from utilities.utl import remove_outliers_df\n"
   ]
  },
  {
   "cell_type": "markdown",
   "metadata": {},
   "source": [
    "## set path"
   ]
  },
  {
   "cell_type": "code",
   "execution_count": 21,
   "metadata": {},
   "outputs": [
    {
     "name": "stdout",
     "output_type": "stream",
     "text": [
      "c:\\Users\\User\\Desktop\\kiel\\tremor_feedback_jw\n"
     ]
    }
   ],
   "source": [
    "dir_proj = Path(\"__file__\").absolute().parents[1]\n",
    "dir_raw = Path.joinpath(dir_proj,\"04_data\",\"00_raw\")\n",
    "dir_plots = Path.joinpath(dir_proj,\"06_plots\",\"02_group_comparisons\")\n",
    "dir_prep = Path.joinpath(dir_proj,\"04_data\",\"01_prep\")\n",
    "print(dir_proj)"
   ]
  },
  {
   "cell_type": "markdown",
   "metadata": {},
   "source": [
    "## load data\n",
    "Load the preprocessed data from pupils, force sensor and clinical data"
   ]
  },
  {
   "cell_type": "code",
   "execution_count": 25,
   "metadata": {},
   "outputs": [
    {
     "name": "stdout",
     "output_type": "stream",
     "text": [
      "['ID', 'Trial n', 'Feedback type', 'Feedback angle', 'Pupil size', 'Percentage bad pupil samples', 'Group']\n"
     ]
    }
   ],
   "source": [
    "dat_pupil = pd.read_csv(Path.joinpath(dir_prep,\"all_trials_pupil.csv\"), index_col=False)\n",
    "dat_gss = pd.read_csv(Path.joinpath(dir_prep,\"all_trials_gss.csv\"), index_col=False)\n",
    "\n",
    "print(list(dat_pupil.columns))\n",
    "\n",
    "dat_clin = pd.read_excel(Path.joinpath(dir_raw,\"behav_data.xlsx\"), index_col=False)\n"
   ]
  },
  {
   "cell_type": "markdown",
   "metadata": {},
   "source": [
    "## Review clinical data"
   ]
  },
  {
   "cell_type": "code",
   "execution_count": 26,
   "metadata": {},
   "outputs": [
    {
     "data": {
      "text/html": [
       "<div>\n",
       "<style scoped>\n",
       "    .dataframe tbody tr th:only-of-type {\n",
       "        vertical-align: middle;\n",
       "    }\n",
       "\n",
       "    .dataframe tbody tr th {\n",
       "        vertical-align: top;\n",
       "    }\n",
       "\n",
       "    .dataframe thead th {\n",
       "        text-align: right;\n",
       "    }\n",
       "</style>\n",
       "<table border=\"1\" class=\"dataframe\">\n",
       "  <thead>\n",
       "    <tr style=\"text-align: right;\">\n",
       "      <th></th>\n",
       "      <th>ID</th>\n",
       "      <th>Alter</th>\n",
       "      <th>Geschlecht</th>\n",
       "      <th>BDI-Score</th>\n",
       "      <th>Schahmann semantische Wortflüssigkeit</th>\n",
       "      <th>Schahmann phonematische Wortflüssigkeit</th>\n",
       "      <th>Schahmann Kategorie-Wechsel</th>\n",
       "      <th>Schahmann Zahlen-spanne vorwärts</th>\n",
       "      <th>Schahmann Zahlen-spanne rückwärts</th>\n",
       "      <th>Schahmann Würfel</th>\n",
       "      <th>...</th>\n",
       "      <th>Tetras Tremor OE kinet. Tremor LI</th>\n",
       "      <th>Tetras Tremor UE</th>\n",
       "      <th>Tetras Archimedes RE</th>\n",
       "      <th>Tetras Archimedes LI</th>\n",
       "      <th>Tetras Handschrift</th>\n",
       "      <th>Tetras Punktan-näherung RE</th>\n",
       "      <th>Tetras Punktan-näherung LI</th>\n",
       "      <th>Tetras Tremor im Stehen</th>\n",
       "      <th>Tetras Gesamtscore Aufgaben-skala</th>\n",
       "      <th>Gesamtscore Tetras</th>\n",
       "    </tr>\n",
       "  </thead>\n",
       "  <tbody>\n",
       "    <tr>\n",
       "      <th>0</th>\n",
       "      <td>p114</td>\n",
       "      <td>35.0</td>\n",
       "      <td>m</td>\n",
       "      <td>4.0</td>\n",
       "      <td>26.0</td>\n",
       "      <td>10.0</td>\n",
       "      <td>12.0</td>\n",
       "      <td>6.0</td>\n",
       "      <td>4.0</td>\n",
       "      <td>15.0</td>\n",
       "      <td>...</td>\n",
       "      <td>1.5</td>\n",
       "      <td>2.0</td>\n",
       "      <td>1.0</td>\n",
       "      <td>2.0</td>\n",
       "      <td>1.0</td>\n",
       "      <td>1.0</td>\n",
       "      <td>1.5</td>\n",
       "      <td>0.0</td>\n",
       "      <td>17.0</td>\n",
       "      <td>33.0</td>\n",
       "    </tr>\n",
       "    <tr>\n",
       "      <th>1</th>\n",
       "      <td>p115</td>\n",
       "      <td>46.0</td>\n",
       "      <td>w</td>\n",
       "      <td>2.0</td>\n",
       "      <td>NaN</td>\n",
       "      <td>NaN</td>\n",
       "      <td>NaN</td>\n",
       "      <td>NaN</td>\n",
       "      <td>NaN</td>\n",
       "      <td>NaN</td>\n",
       "      <td>...</td>\n",
       "      <td>1.5</td>\n",
       "      <td>1.0</td>\n",
       "      <td>1.0</td>\n",
       "      <td>1.0</td>\n",
       "      <td>1.0</td>\n",
       "      <td>1.5</td>\n",
       "      <td>2.0</td>\n",
       "      <td>0.0</td>\n",
       "      <td>17.5</td>\n",
       "      <td>35.5</td>\n",
       "    </tr>\n",
       "    <tr>\n",
       "      <th>2</th>\n",
       "      <td>p116</td>\n",
       "      <td>23.0</td>\n",
       "      <td>m</td>\n",
       "      <td>5.0</td>\n",
       "      <td>26.0</td>\n",
       "      <td>13.0</td>\n",
       "      <td>15.0</td>\n",
       "      <td>5.0</td>\n",
       "      <td>4.0</td>\n",
       "      <td>15.0</td>\n",
       "      <td>...</td>\n",
       "      <td>NaN</td>\n",
       "      <td>NaN</td>\n",
       "      <td>NaN</td>\n",
       "      <td>NaN</td>\n",
       "      <td>NaN</td>\n",
       "      <td>NaN</td>\n",
       "      <td>NaN</td>\n",
       "      <td>NaN</td>\n",
       "      <td>0.0</td>\n",
       "      <td>0.0</td>\n",
       "    </tr>\n",
       "    <tr>\n",
       "      <th>3</th>\n",
       "      <td>p117</td>\n",
       "      <td>81.0</td>\n",
       "      <td>m</td>\n",
       "      <td>13.0</td>\n",
       "      <td>24.0</td>\n",
       "      <td>7.0</td>\n",
       "      <td>9.0</td>\n",
       "      <td>4.0</td>\n",
       "      <td>2.0</td>\n",
       "      <td>12.0</td>\n",
       "      <td>...</td>\n",
       "      <td>NaN</td>\n",
       "      <td>NaN</td>\n",
       "      <td>NaN</td>\n",
       "      <td>NaN</td>\n",
       "      <td>NaN</td>\n",
       "      <td>NaN</td>\n",
       "      <td>NaN</td>\n",
       "      <td>NaN</td>\n",
       "      <td>0.0</td>\n",
       "      <td>0.0</td>\n",
       "    </tr>\n",
       "    <tr>\n",
       "      <th>4</th>\n",
       "      <td>p118</td>\n",
       "      <td>51.0</td>\n",
       "      <td>m</td>\n",
       "      <td>11.0</td>\n",
       "      <td>26.0</td>\n",
       "      <td>17.0</td>\n",
       "      <td>15.0</td>\n",
       "      <td>5.0</td>\n",
       "      <td>5.0</td>\n",
       "      <td>15.0</td>\n",
       "      <td>...</td>\n",
       "      <td>NaN</td>\n",
       "      <td>NaN</td>\n",
       "      <td>NaN</td>\n",
       "      <td>NaN</td>\n",
       "      <td>NaN</td>\n",
       "      <td>NaN</td>\n",
       "      <td>NaN</td>\n",
       "      <td>NaN</td>\n",
       "      <td>0.0</td>\n",
       "      <td>0.0</td>\n",
       "    </tr>\n",
       "  </tbody>\n",
       "</table>\n",
       "<p>5 rows × 48 columns</p>\n",
       "</div>"
      ],
      "text/plain": [
       "     ID  Alter Geschlecht  BDI-Score  Schahmann semantische Wortflüssigkeit  \\\n",
       "0  p114   35.0          m        4.0                                   26.0   \n",
       "1  p115   46.0          w        2.0                                    NaN   \n",
       "2  p116   23.0          m        5.0                                   26.0   \n",
       "3  p117   81.0          m       13.0                                   24.0   \n",
       "4  p118   51.0          m       11.0                                   26.0   \n",
       "\n",
       "   Schahmann phonematische Wortflüssigkeit  Schahmann Kategorie-Wechsel  \\\n",
       "0                                     10.0                         12.0   \n",
       "1                                      NaN                          NaN   \n",
       "2                                     13.0                         15.0   \n",
       "3                                      7.0                          9.0   \n",
       "4                                     17.0                         15.0   \n",
       "\n",
       "   Schahmann Zahlen-spanne vorwärts  Schahmann Zahlen-spanne rückwärts  \\\n",
       "0                               6.0                                4.0   \n",
       "1                               NaN                                NaN   \n",
       "2                               5.0                                4.0   \n",
       "3                               4.0                                2.0   \n",
       "4                               5.0                                5.0   \n",
       "\n",
       "   Schahmann Würfel   ... Tetras Tremor OE kinet. Tremor LI  Tetras Tremor UE  \\\n",
       "0               15.0  ...                               1.5               2.0   \n",
       "1                NaN  ...                               1.5               1.0   \n",
       "2               15.0  ...                               NaN               NaN   \n",
       "3               12.0  ...                               NaN               NaN   \n",
       "4               15.0  ...                               NaN               NaN   \n",
       "\n",
       "  Tetras Archimedes RE Tetras Archimedes LI  Tetras Handschrift  \\\n",
       "0                  1.0                  2.0                 1.0   \n",
       "1                  1.0                  1.0                 1.0   \n",
       "2                  NaN                  NaN                 NaN   \n",
       "3                  NaN                  NaN                 NaN   \n",
       "4                  NaN                  NaN                 NaN   \n",
       "\n",
       "   Tetras Punktan-näherung RE  Tetras Punktan-näherung LI  \\\n",
       "0                         1.0                         1.5   \n",
       "1                         1.5                         2.0   \n",
       "2                         NaN                         NaN   \n",
       "3                         NaN                         NaN   \n",
       "4                         NaN                         NaN   \n",
       "\n",
       "   Tetras Tremor im Stehen  Tetras Gesamtscore Aufgaben-skala  \\\n",
       "0                      0.0                               17.0   \n",
       "1                      0.0                               17.5   \n",
       "2                      NaN                                0.0   \n",
       "3                      NaN                                0.0   \n",
       "4                      NaN                                0.0   \n",
       "\n",
       "   Gesamtscore Tetras  \n",
       "0                33.0  \n",
       "1                35.5  \n",
       "2                 0.0  \n",
       "3                 0.0  \n",
       "4                 0.0  \n",
       "\n",
       "[5 rows x 48 columns]"
      ]
     },
     "execution_count": 26,
     "metadata": {},
     "output_type": "execute_result"
    }
   ],
   "source": [
    "dat_clin.head()"
   ]
  },
  {
   "cell_type": "code",
   "execution_count": 36,
   "metadata": {},
   "outputs": [
    {
     "name": "stdout",
     "output_type": "stream",
     "text": [
      "['ID', 'Alter', 'Geschlecht', 'BDI-Score', 'Schahmann semantische Wortflüssigkeit', 'Schahmann phonematische Wortflüssigkeit', 'Schahmann Kategorie-Wechsel', 'Schahmann Zahlen-spanne vorwärts', 'Schahmann Zahlen-spanne rückwärts', 'Schahmann Würfel ', 'Schahmann verbaler Abruf', 'Schahmann Gemeinsam-keiten', 'Schahmann Go/No-Go', 'Schahmann Affekt', 'Schahmann Gesamtwert \\n(x/120)', 'Schahmann Gesamtrwert\\n(x/10)', 'Tetras Sprechen', 'Tetras mit dem Löffel essen', 'Tetras aus einem Glas trinken', 'Tetras Körper-hygiene', 'Tetras Ankleiden', 'Tetras Schütten/Ein-schenken', 'Tetras Tablett tragen', 'Tetras Schlüssel benutzen', 'Tetras Schreiben', 'Tetras Arbeiten', 'Tetras Tätigkeit mit schwerster Beeinträchti-gung', 'Tetras Grad der Beeinträchti-gung ', 'Tetras soziale Beeinträchti-gung', 'Tetras Gesamtscore Interview', 'Tetras Kopftremor', 'Tetras Gesichts-tremor', 'Tetras Stimm-tremor', 'Tetras Tremor OE ausgestreckt RE', 'Tetras Tremor OE ausgestreckt LI', 'Tetras Tremor OE Flügelschlag RE', 'Tetras Tremor OE Flügelschlag LI', 'Tetras Tremor OE kinet. Tremor RE', 'Tetras Tremor OE kinet. Tremor LI', 'Tetras Tremor UE', 'Tetras Archimedes RE', 'Tetras Archimedes LI', 'Tetras Handschrift', 'Tetras Punktan-näherung RE', 'Tetras Punktan-näherung LI', 'Tetras Tremor im Stehen', 'Tetras Gesamtscore Aufgaben-skala', 'Gesamtscore Tetras']\n"
     ]
    }
   ],
   "source": [
    "# clean data\n",
    "pat = dat_clin[dat_clin[\"ID\"].str.contains(\"p2|c3\")]\n",
    "print(list(pat.columns))"
   ]
  }
 ],
 "metadata": {
  "kernelspec": {
   "display_name": "Python 3.9.13 64-bit (microsoft store)",
   "language": "python",
   "name": "python3"
  },
  "language_info": {
   "codemirror_mode": {
    "name": "ipython",
    "version": 3
   },
   "file_extension": ".py",
   "mimetype": "text/x-python",
   "name": "python",
   "nbconvert_exporter": "python",
   "pygments_lexer": "ipython3",
   "version": "3.9.13"
  },
  "orig_nbformat": 4,
  "vscode": {
   "interpreter": {
    "hash": "23b4a3e8622309bcc6db3d5cc6eb73d60ab98d9ec23bad6a26b709981ccb403a"
   }
  }
 },
 "nbformat": 4,
 "nbformat_minor": 2
}
