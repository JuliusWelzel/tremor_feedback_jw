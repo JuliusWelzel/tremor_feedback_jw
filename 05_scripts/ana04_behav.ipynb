{
 "cells": [
  {
   "cell_type": "code",
   "execution_count": 2,
   "metadata": {},
   "outputs": [],
   "source": [
    "%reload_ext autoreload\n",
    "%autoreload 2\n",
    "import warnings\n",
    "warnings.filterwarnings('ignore')\n",
    "\n",
    "from pathlib import Path\n",
    "import numpy as np\n",
    "from scipy import stats\n",
    "import pandas as pd\n",
    "import seaborn as sns\n",
    "import matplotlib.pyplot as plt\n",
    "from tueplots import bundles\n",
    "from pingouin import partial_corr\n",
    "\n",
    "bundles.beamer_moml()\n",
    "# Increase the resolution of all the plots below\n",
    "plt.rcParams.update({\"figure.dpi\": 200,\"figure.facecolor\":\"w\",\"figure.figsize\": (10,8)})\n",
    "\n"
   ]
  },
  {
   "cell_type": "markdown",
   "metadata": {},
   "source": [
    "## set path"
   ]
  },
  {
   "cell_type": "code",
   "execution_count": 3,
   "metadata": {},
   "outputs": [
    {
     "name": "stdout",
     "output_type": "stream",
     "text": [
      "c:\\Users\\User\\Desktop\\kiel\\tremor_feedback_jw\n"
     ]
    }
   ],
   "source": [
    "dir_proj = Path(\"__file__\").absolute().parents[1]\n",
    "dir_raw = Path.joinpath(dir_proj,\"04_data\",\"00_raw\")\n",
    "dir_plots = Path.joinpath(dir_proj,\"06_plots\",\"02_group_comparisons\")\n",
    "dir_prep = Path.joinpath(dir_proj,\"04_data\",\"01_prep\")\n",
    "print(dir_proj)"
   ]
  },
  {
   "cell_type": "markdown",
   "metadata": {},
   "source": [
    "## load data\n",
    "Load the preprocessed data from pupils, force sensor and clinical data"
   ]
  },
  {
   "cell_type": "code",
   "execution_count": 4,
   "metadata": {},
   "outputs": [
    {
     "name": "stdout",
     "output_type": "stream",
     "text": [
      "['ID', 'Trial n', 'Feedback type', 'Feedback angle', 'Pupil size', 'Percentage bad pupil samples', 'Group']\n"
     ]
    }
   ],
   "source": [
    "dat_pupil = pd.read_csv(Path.joinpath(dir_prep,\"all_trials_pupil.csv\"), index_col=False)\n",
    "dat_gss = pd.read_csv(Path.joinpath(dir_prep,\"all_trials_gss.csv\"), index_col=False)\n",
    "\n",
    "print(list(dat_pupil.columns))\n",
    "\n",
    "dat_clin = pd.read_excel(Path.joinpath(dir_raw,\"behav_data.xlsx\"), index_col=False)\n"
   ]
  },
  {
   "cell_type": "markdown",
   "metadata": {},
   "source": [
    "## Review clinical data"
   ]
  },
  {
   "cell_type": "code",
   "execution_count": 5,
   "metadata": {},
   "outputs": [
    {
     "data": {
      "text/html": [
       "<div>\n",
       "<style scoped>\n",
       "    .dataframe tbody tr th:only-of-type {\n",
       "        vertical-align: middle;\n",
       "    }\n",
       "\n",
       "    .dataframe tbody tr th {\n",
       "        vertical-align: top;\n",
       "    }\n",
       "\n",
       "    .dataframe thead th {\n",
       "        text-align: right;\n",
       "    }\n",
       "</style>\n",
       "<table border=\"1\" class=\"dataframe\">\n",
       "  <thead>\n",
       "    <tr style=\"text-align: right;\">\n",
       "      <th></th>\n",
       "      <th>ID</th>\n",
       "      <th>Alter</th>\n",
       "      <th>Geschlecht</th>\n",
       "      <th>BDI-Score</th>\n",
       "      <th>Schahmann semantische Wortflüssigkeit</th>\n",
       "      <th>Schahmann phonematische Wortflüssigkeit</th>\n",
       "      <th>Schahmann Kategorie-Wechsel</th>\n",
       "      <th>Schahmann Zahlen-spanne vorwärts</th>\n",
       "      <th>Schahmann Zahlen-spanne rückwärts</th>\n",
       "      <th>Schahmann Würfel</th>\n",
       "      <th>...</th>\n",
       "      <th>Tetras Tremor OE kinet. Tremor LI</th>\n",
       "      <th>Tetras Tremor UE</th>\n",
       "      <th>Tetras Archimedes RE</th>\n",
       "      <th>Tetras Archimedes LI</th>\n",
       "      <th>Tetras Handschrift</th>\n",
       "      <th>Tetras Punktan-näherung RE</th>\n",
       "      <th>Tetras Punktan-näherung LI</th>\n",
       "      <th>Tetras Tremor im Stehen</th>\n",
       "      <th>Tetras Gesamtscore Aufgaben-skala</th>\n",
       "      <th>Gesamtscore Tetras</th>\n",
       "    </tr>\n",
       "  </thead>\n",
       "  <tbody>\n",
       "    <tr>\n",
       "      <th>0</th>\n",
       "      <td>p114</td>\n",
       "      <td>35.0</td>\n",
       "      <td>m</td>\n",
       "      <td>4.0</td>\n",
       "      <td>26.0</td>\n",
       "      <td>10.0</td>\n",
       "      <td>12.0</td>\n",
       "      <td>6.0</td>\n",
       "      <td>4.0</td>\n",
       "      <td>15.0</td>\n",
       "      <td>...</td>\n",
       "      <td>1.5</td>\n",
       "      <td>2.0</td>\n",
       "      <td>1.0</td>\n",
       "      <td>2.0</td>\n",
       "      <td>1.0</td>\n",
       "      <td>1.0</td>\n",
       "      <td>1.5</td>\n",
       "      <td>0.0</td>\n",
       "      <td>17.0</td>\n",
       "      <td>33.0</td>\n",
       "    </tr>\n",
       "    <tr>\n",
       "      <th>1</th>\n",
       "      <td>p115</td>\n",
       "      <td>46.0</td>\n",
       "      <td>w</td>\n",
       "      <td>2.0</td>\n",
       "      <td>NaN</td>\n",
       "      <td>NaN</td>\n",
       "      <td>NaN</td>\n",
       "      <td>NaN</td>\n",
       "      <td>NaN</td>\n",
       "      <td>NaN</td>\n",
       "      <td>...</td>\n",
       "      <td>1.5</td>\n",
       "      <td>1.0</td>\n",
       "      <td>1.0</td>\n",
       "      <td>1.0</td>\n",
       "      <td>1.0</td>\n",
       "      <td>1.5</td>\n",
       "      <td>2.0</td>\n",
       "      <td>0.0</td>\n",
       "      <td>17.5</td>\n",
       "      <td>35.5</td>\n",
       "    </tr>\n",
       "    <tr>\n",
       "      <th>2</th>\n",
       "      <td>p116</td>\n",
       "      <td>23.0</td>\n",
       "      <td>m</td>\n",
       "      <td>5.0</td>\n",
       "      <td>26.0</td>\n",
       "      <td>13.0</td>\n",
       "      <td>15.0</td>\n",
       "      <td>5.0</td>\n",
       "      <td>4.0</td>\n",
       "      <td>15.0</td>\n",
       "      <td>...</td>\n",
       "      <td>NaN</td>\n",
       "      <td>NaN</td>\n",
       "      <td>NaN</td>\n",
       "      <td>NaN</td>\n",
       "      <td>NaN</td>\n",
       "      <td>NaN</td>\n",
       "      <td>NaN</td>\n",
       "      <td>NaN</td>\n",
       "      <td>NaN</td>\n",
       "      <td>NaN</td>\n",
       "    </tr>\n",
       "    <tr>\n",
       "      <th>3</th>\n",
       "      <td>p117</td>\n",
       "      <td>81.0</td>\n",
       "      <td>m</td>\n",
       "      <td>13.0</td>\n",
       "      <td>24.0</td>\n",
       "      <td>7.0</td>\n",
       "      <td>9.0</td>\n",
       "      <td>4.0</td>\n",
       "      <td>2.0</td>\n",
       "      <td>12.0</td>\n",
       "      <td>...</td>\n",
       "      <td>NaN</td>\n",
       "      <td>NaN</td>\n",
       "      <td>NaN</td>\n",
       "      <td>NaN</td>\n",
       "      <td>NaN</td>\n",
       "      <td>NaN</td>\n",
       "      <td>NaN</td>\n",
       "      <td>NaN</td>\n",
       "      <td>NaN</td>\n",
       "      <td>NaN</td>\n",
       "    </tr>\n",
       "    <tr>\n",
       "      <th>4</th>\n",
       "      <td>p118</td>\n",
       "      <td>51.0</td>\n",
       "      <td>m</td>\n",
       "      <td>11.0</td>\n",
       "      <td>26.0</td>\n",
       "      <td>17.0</td>\n",
       "      <td>15.0</td>\n",
       "      <td>5.0</td>\n",
       "      <td>5.0</td>\n",
       "      <td>15.0</td>\n",
       "      <td>...</td>\n",
       "      <td>NaN</td>\n",
       "      <td>NaN</td>\n",
       "      <td>NaN</td>\n",
       "      <td>NaN</td>\n",
       "      <td>NaN</td>\n",
       "      <td>NaN</td>\n",
       "      <td>NaN</td>\n",
       "      <td>NaN</td>\n",
       "      <td>NaN</td>\n",
       "      <td>NaN</td>\n",
       "    </tr>\n",
       "  </tbody>\n",
       "</table>\n",
       "<p>5 rows × 48 columns</p>\n",
       "</div>"
      ],
      "text/plain": [
       "     ID  Alter Geschlecht  BDI-Score  Schahmann semantische Wortflüssigkeit  \\\n",
       "0  p114   35.0          m        4.0                                   26.0   \n",
       "1  p115   46.0          w        2.0                                    NaN   \n",
       "2  p116   23.0          m        5.0                                   26.0   \n",
       "3  p117   81.0          m       13.0                                   24.0   \n",
       "4  p118   51.0          m       11.0                                   26.0   \n",
       "\n",
       "   Schahmann phonematische Wortflüssigkeit  Schahmann Kategorie-Wechsel  \\\n",
       "0                                     10.0                         12.0   \n",
       "1                                      NaN                          NaN   \n",
       "2                                     13.0                         15.0   \n",
       "3                                      7.0                          9.0   \n",
       "4                                     17.0                         15.0   \n",
       "\n",
       "   Schahmann Zahlen-spanne vorwärts  Schahmann Zahlen-spanne rückwärts  \\\n",
       "0                               6.0                                4.0   \n",
       "1                               NaN                                NaN   \n",
       "2                               5.0                                4.0   \n",
       "3                               4.0                                2.0   \n",
       "4                               5.0                                5.0   \n",
       "\n",
       "   Schahmann Würfel   ... Tetras Tremor OE kinet. Tremor LI  Tetras Tremor UE  \\\n",
       "0               15.0  ...                               1.5               2.0   \n",
       "1                NaN  ...                               1.5               1.0   \n",
       "2               15.0  ...                               NaN               NaN   \n",
       "3               12.0  ...                               NaN               NaN   \n",
       "4               15.0  ...                               NaN               NaN   \n",
       "\n",
       "  Tetras Archimedes RE Tetras Archimedes LI  Tetras Handschrift  \\\n",
       "0                  1.0                  2.0                 1.0   \n",
       "1                  1.0                  1.0                 1.0   \n",
       "2                  NaN                  NaN                 NaN   \n",
       "3                  NaN                  NaN                 NaN   \n",
       "4                  NaN                  NaN                 NaN   \n",
       "\n",
       "   Tetras Punktan-näherung RE  Tetras Punktan-näherung LI  \\\n",
       "0                         1.0                         1.5   \n",
       "1                         1.5                         2.0   \n",
       "2                         NaN                         NaN   \n",
       "3                         NaN                         NaN   \n",
       "4                         NaN                         NaN   \n",
       "\n",
       "   Tetras Tremor im Stehen  Tetras Gesamtscore Aufgaben-skala  \\\n",
       "0                      0.0                               17.0   \n",
       "1                      0.0                               17.5   \n",
       "2                      NaN                                NaN   \n",
       "3                      NaN                                NaN   \n",
       "4                      NaN                                NaN   \n",
       "\n",
       "   Gesamtscore Tetras  \n",
       "0                33.0  \n",
       "1                35.5  \n",
       "2                 NaN  \n",
       "3                 NaN  \n",
       "4                 NaN  \n",
       "\n",
       "[5 rows x 48 columns]"
      ]
     },
     "execution_count": 5,
     "metadata": {},
     "output_type": "execute_result"
    }
   ],
   "source": [
    "dat_clin.head()"
   ]
  },
  {
   "cell_type": "code",
   "execution_count": 6,
   "metadata": {},
   "outputs": [
    {
     "name": "stdout",
     "output_type": "stream",
     "text": [
      "['ID', 'Alter', 'Geschlecht', 'BDI-Score', 'Schahmann semantische Wortflüssigkeit', 'Schahmann phonematische Wortflüssigkeit', 'Schahmann Kategorie-Wechsel', 'Schahmann Zahlen-spanne vorwärts', 'Schahmann Zahlen-spanne rückwärts', 'Schahmann Würfel ', 'Schahmann verbaler Abruf', 'Schahmann Gemeinsam-keiten', 'Schahmann Go/No-Go', 'Schahmann Affekt', 'Schahmann Gesamtwert Aufgaben', 'Schahmann Gesamtwert Module', 'Tetras Sprechen', 'Tetras mit dem Löffel essen', 'Tetras aus einem Glas trinken', 'Tetras Körper-hygiene', 'Tetras Ankleiden', 'Tetras Schütten/Ein-schenken', 'Tetras Tablett tragen', 'Tetras Schlüssel benutzen', 'Tetras Schreiben', 'Tetras Arbeiten', 'Tetras Tätigkeit mit schwerster Beeinträchti-gung', 'Tetras Grad der Beeinträchti-gung ', 'Tetras soziale Beeinträchti-gung', 'Tetras Gesamtscore Interview', 'Tetras Kopftremor', 'Tetras Gesichts-tremor', 'Tetras Stimm-tremor', 'Tetras Tremor OE ausgestreckt RE', 'Tetras Tremor OE ausgestreckt LI', 'Tetras Tremor OE Flügelschlag RE', 'Tetras Tremor OE Flügelschlag LI', 'Tetras Tremor OE kinet. Tremor RE', 'Tetras Tremor OE kinet. Tremor LI', 'Tetras Tremor UE', 'Tetras Archimedes RE', 'Tetras Archimedes LI', 'Tetras Handschrift', 'Tetras Punktan-näherung RE', 'Tetras Punktan-näherung LI', 'Tetras Tremor im Stehen', 'Tetras Gesamtscore Aufgaben-skala', 'Gesamtscore Tetras', 'group']\n"
     ]
    }
   ],
   "source": [
    "# clean data\n",
    "all = dat_clin[dat_clin[\"ID\"].str.contains(\"p2|c3\")]\n",
    "all[\"group\"] = all.ID.str[0]\n",
    "print(list(all.columns))\n",
    "\n",
    "all.to_csv(Path.joinpath(dir_prep,\"overview_cohort.csv\"))"
   ]
  },
  {
   "cell_type": "code",
   "execution_count": 7,
   "metadata": {},
   "outputs": [
    {
     "name": "stdout",
     "output_type": "stream",
     "text": [
      "The cohort consistet of 15 ET patients and 10 healthy controls.\n"
     ]
    }
   ],
   "source": [
    "tmp = all[\"group\"].value_counts()\n",
    "print(f\"The cohort consistet of {tmp.p:2d} ET patients and {tmp.c:2d} healthy controls.\")"
   ]
  },
  {
   "cell_type": "markdown",
   "metadata": {},
   "source": [
    "### Make group comparisons for clinical data\n",
    "Use Mann-whitney-U test for non-normally distributed data."
   ]
  },
  {
   "cell_type": "code",
   "execution_count": 8,
   "metadata": {},
   "outputs": [
    {
     "name": "stdout",
     "output_type": "stream",
     "text": [
      "The age difference between the patient and healthy controls is t = 86.50, p = 0.147\n",
      "The BDI difference between the patient and healthy controls is t = 113.50, p = 0.003\n",
      "The Schmahmann total difference between the patient and healthy controls is t = 33.50, p = 0.046\n"
     ]
    }
   ],
   "source": [
    "idx_pat = all.group == \"p\"\n",
    "idx_con = all.group == \"c\"\n",
    "\n",
    "t_age, p_age = stats.mannwhitneyu(all[\"Alter\"][idx_pat].dropna(),all[\"Alter\"][idx_con].dropna())\n",
    "t_bdi, p_bdi = stats.mannwhitneyu(all[\"BDI-Score\"][idx_pat].dropna(),all[\"BDI-Score\"][idx_con].dropna())\n",
    "t_schahmann, p_schahmann = stats.mannwhitneyu(all[\"Schahmann Gesamtwert Aufgaben\"][idx_pat],all[\"Schahmann Gesamtwert Aufgaben\"][idx_con].dropna())\n",
    "\n",
    "print(f\"The age difference between the patient and healthy controls is t = {t_age:.2f}, p = {p_age:.3f}\")\n",
    "print(f\"The BDI difference between the patient and healthy controls is t = {t_bdi:.2f}, p = {p_bdi:.3f}\")\n",
    "print(f\"The Schmahmann total difference between the patient and healthy controls is t = {t_schahmann:.2f}, p = {p_schahmann:.3f}\")\n"
   ]
  },
  {
   "cell_type": "code",
   "execution_count": 9,
   "metadata": {},
   "outputs": [
    {
     "name": "stdout",
     "output_type": "stream",
     "text": [
      "Correlation between age and Tetras score is r = 0.57, p = 0.032\n"
     ]
    }
   ],
   "source": [
    "pat = all[idx_pat]\n",
    "r, p = stats.spearmanr(pat[\"Alter\"],pat[\"Tetras Gesamtscore Aufgaben-skala\"], nan_policy=\"omit\")\n",
    "print(f\"Correlation between age and Tetras score is r = {r:.2f}, p = {p:.3f}\")"
   ]
  },
  {
   "cell_type": "markdown",
   "metadata": {},
   "source": [
    "### Check partial correlation of Schahmann and TETRAS corrected for age"
   ]
  },
  {
   "cell_type": "code",
   "execution_count": 10,
   "metadata": {},
   "outputs": [
    {
     "name": "stdout",
     "output_type": "stream",
     "text": [
      "Correlation between Tetras total and Schahmann ex total is r = -0.21, p = 0.46094 \n",
      " \n",
      "           Schahmann    Tetras     Alter\n",
      "Schahmann   1.000000 -0.214758 -0.235683\n",
      "Tetras     -0.214758  1.000000  0.572687\n",
      "Alter      -0.235683  0.572687  1.000000\n",
      " \n",
      "           n       r          CI95%   p-val\n",
      "spearman  14 -0.1001  [-0.62, 0.48]  0.7448\n"
     ]
    }
   ],
   "source": [
    "# corr schahmann tetras\n",
    "r, p = stats.spearmanr(pat[\"Tetras Gesamtscore Aufgaben-skala\"],pat[\"Schahmann Gesamtwert Aufgaben\"], nan_policy=\"omit\")\n",
    "print(f\"Correlation between Tetras total and Schahmann ex total is r = {r:.2f}, p = {p:.5f} \")\n",
    "print(' ')\n",
    "\n",
    "dat_cor = pat[[\"Schahmann Gesamtwert Aufgaben\",\"Tetras Gesamtscore Aufgaben-skala\",\"Alter\"]].copy()\n",
    "dat_cor = dat_cor.rename(columns=lambda x: x.split(' ')[0])\n",
    "corrmatR = dat_cor.corr(method='spearman')\n",
    "print(corrmatR)\n",
    "\n",
    "pc = partial_corr(data = dat_cor, x='Schahmann', y='Tetras', covar=['Alter'], method='spearman').round(4)\n",
    "print(' ')\n",
    "print(pc)"
   ]
  },
  {
   "cell_type": "markdown",
   "metadata": {},
   "source": [
    "## Merge clincal and experimental data"
   ]
  },
  {
   "cell_type": "code",
   "execution_count": 11,
   "metadata": {},
   "outputs": [
    {
     "name": "stdout",
     "output_type": "stream",
     "text": [
      "Correlation between age and power [4-12Hz] is r = 0.16, p = 0.034 \n"
     ]
    }
   ],
   "source": [
    "full_set = all.merge(dat_gss)\n",
    "idx_pat = full_set.group == \"p\"\n",
    "\n",
    "pat = full_set[idx_pat]\n",
    "r, p = stats.spearmanr(pat[\"Alter\"],pat[\"Power [4-12]\"], nan_policy=\"omit\")\n",
    "print(f\"Correlation between age and power [4-12Hz] is r = {r:.2f}, p = {p:.3f} \")"
   ]
  },
  {
   "cell_type": "markdown",
   "metadata": {},
   "source": [
    "## High delta tremor to pupil"
   ]
  },
  {
   "cell_type": "code",
   "execution_count": 12,
   "metadata": {},
   "outputs": [],
   "source": [
    "pat_all = pd.merge(pat,dat_pupil)\n"
   ]
  },
  {
   "cell_type": "code",
   "execution_count": 13,
   "metadata": {},
   "outputs": [
    {
     "data": {
      "text/plain": [
       "Index(['ID', 'Alter', 'Geschlecht', 'BDI-Score',\n",
       "       'Schahmann semantische Wortflüssigkeit',\n",
       "       'Schahmann phonematische Wortflüssigkeit',\n",
       "       'Schahmann Kategorie-Wechsel', 'Schahmann Zahlen-spanne vorwärts',\n",
       "       'Schahmann Zahlen-spanne rückwärts', 'Schahmann Würfel ',\n",
       "       'Schahmann verbaler Abruf', 'Schahmann Gemeinsam-keiten',\n",
       "       'Schahmann Go/No-Go', 'Schahmann Affekt',\n",
       "       'Schahmann Gesamtwert Aufgaben', 'Schahmann Gesamtwert Module',\n",
       "       'Tetras Sprechen', 'Tetras mit dem Löffel essen',\n",
       "       'Tetras aus einem Glas trinken', 'Tetras Körper-hygiene',\n",
       "       'Tetras Ankleiden', 'Tetras Schütten/Ein-schenken',\n",
       "       'Tetras Tablett tragen', 'Tetras Schlüssel benutzen',\n",
       "       'Tetras Schreiben', 'Tetras Arbeiten',\n",
       "       'Tetras Tätigkeit mit schwerster Beeinträchti-gung',\n",
       "       'Tetras Grad der Beeinträchti-gung ',\n",
       "       'Tetras soziale Beeinträchti-gung', 'Tetras Gesamtscore Interview',\n",
       "       'Tetras Kopftremor', 'Tetras Gesichts-tremor', 'Tetras Stimm-tremor',\n",
       "       'Tetras Tremor OE ausgestreckt RE', 'Tetras Tremor OE ausgestreckt LI',\n",
       "       'Tetras Tremor OE Flügelschlag RE', 'Tetras Tremor OE Flügelschlag LI',\n",
       "       'Tetras Tremor OE kinet. Tremor RE',\n",
       "       'Tetras Tremor OE kinet. Tremor LI', 'Tetras Tremor UE',\n",
       "       'Tetras Archimedes RE', 'Tetras Archimedes LI', 'Tetras Handschrift',\n",
       "       'Tetras Punktan-näherung RE', 'Tetras Punktan-näherung LI',\n",
       "       'Tetras Tremor im Stehen', 'Tetras Gesamtscore Aufgaben-skala',\n",
       "       'Gesamtscore Tetras', 'group', 'Trial n', 'Feedback type',\n",
       "       'Feedback angle', 'Power [4-12]', 'Power [1-3]', 'Group', 'Pupil size',\n",
       "       'Percentage bad pupil samples'],\n",
       "      dtype='object')"
      ]
     },
     "execution_count": 13,
     "metadata": {},
     "output_type": "execute_result"
    }
   ],
   "source": [
    "pat_all.columns"
   ]
  },
  {
   "cell_type": "code",
   "execution_count": 14,
   "metadata": {},
   "outputs": [
    {
     "name": "stdout",
     "output_type": "stream",
     "text": [
      "Correlation between Schahmann and Pupil size is r = -0.10, p = 0.183 \n"
     ]
    }
   ],
   "source": [
    "r, p = stats.spearmanr(pat_all[\"Schahmann Gesamtwert Aufgaben\"],pat_all[\"Pupil size\"], nan_policy=\"omit\")\n",
    "print(f\"Correlation between Schahmann and Pupil size is r = {r:.2f}, p = {p:.3f} \")"
   ]
  },
  {
   "cell_type": "code",
   "execution_count": 15,
   "metadata": {},
   "outputs": [],
   "source": [
    "\n",
    "diffs = pat_all.pivot_table(index=['ID','Group','Feedback type'],columns='Feedback angle',values=['Power [4-12]','Pupil size'],margins=False,aggfunc='mean').reset_index()\n",
    "diffs['dPower'] = diffs['Power [4-12]']['high']-diffs['Power [4-12]']['low']\n",
    "diffs['dPpl'] = diffs['Pupil size']['high']-diffs['Pupil size']['low']\n",
    "diffs['dPower'] = abs(diffs['dPower'])"
   ]
  },
  {
   "cell_type": "code",
   "execution_count": 16,
   "metadata": {},
   "outputs": [
    {
     "name": "stdout",
     "output_type": "stream",
     "text": [
      "Correlation between change in power [4-12Hz] and change in pupil size is r = -0.11, p = 0.473 \n"
     ]
    }
   ],
   "source": [
    "r, p = stats.spearmanr(diffs[\"dPower\"],diffs[\"dPpl\"], nan_policy=\"omit\")\n",
    "print(f\"Correlation between change in power [4-12Hz] and change in pupil size is r = {r:.2f}, p = {p:.3f} \")\n"
   ]
  },
  {
   "cell_type": "markdown",
   "metadata": {},
   "source": [
    "## Only consider patients with severe change in Pupil size"
   ]
  },
  {
   "cell_type": "code",
   "execution_count": 17,
   "metadata": {},
   "outputs": [],
   "source": [
    "diffs[\"dPower\"].describe()\n",
    "\n",
    "idx_cutoff_dPower = np.logical_and(diffs[\"dPower\"] > (diffs[\"dPower\"].mean() * .1 ), diffs[\"dPpl\"] < .5) "
   ]
  },
  {
   "cell_type": "code",
   "execution_count": 18,
   "metadata": {},
   "outputs": [
    {
     "name": "stdout",
     "output_type": "stream",
     "text": [
      "Correlation between change in power [4-12Hz] and change in pupil size is r = -0.12, p = 0.639 \n"
     ]
    },
    {
     "data": {
      "text/plain": [
       "<AxesSubplot:xlabel='dPower', ylabel='dPpl'>"
      ]
     },
     "execution_count": 18,
     "metadata": {},
     "output_type": "execute_result"
    },
    {
     "data": {
      "image/png": "[encoded data removed]",
      "text/plain": [
       "<Figure size 2000x1600 with 1 Axes>"
      ]
     },
     "metadata": {},
     "output_type": "display_data"
    }
   ],
   "source": [
    "r, p = stats.spearmanr(diffs[\"dPower\"][idx_cutoff_dPower],diffs[\"dPpl\"][idx_cutoff_dPower], nan_policy=\"omit\")\n",
    "print(f\"Correlation between change in power [4-12Hz] and change in pupil size is r = {r:.2f}, p = {p:.3f} \")\n",
    "sns.scatterplot(data=diffs[idx_cutoff_dPower], x=\"dPower\", y=\"dPpl\", palette=\"rocket\")"
   ]
  },
  {
   "cell_type": "code",
   "execution_count": null,
   "metadata": {},
   "outputs": [],
   "source": [
    "pc = partial_corr(data = full_set, x='Power [4-12]', y='Tetras', covar=['Alter'], method='spearman').round(4)\n",
    "print(' ')\n",
    "print(pc)"
   ]
  },
  {
   "cell_type": "code",
   "execution_count": 21,
   "metadata": {},
   "outputs": [
    {
     "data": {
      "text/plain": [
       "Index(['ID', 'Alter', 'Geschlecht', 'BDI-Score',\n",
       "       'Schahmann semantische Wortflüssigkeit',\n",
       "       'Schahmann phonematische Wortflüssigkeit',\n",
       "       'Schahmann Kategorie-Wechsel', 'Schahmann Zahlen-spanne vorwärts',\n",
       "       'Schahmann Zahlen-spanne rückwärts', 'Schahmann Würfel ',\n",
       "       'Schahmann verbaler Abruf', 'Schahmann Gemeinsam-keiten',\n",
       "       'Schahmann Go/No-Go', 'Schahmann Affekt',\n",
       "       'Schahmann Gesamtwert Aufgaben', 'Schahmann Gesamtwert Module',\n",
       "       'Tetras Sprechen', 'Tetras mit dem Löffel essen',\n",
       "       'Tetras aus einem Glas trinken', 'Tetras Körper-hygiene',\n",
       "       'Tetras Ankleiden', 'Tetras Schütten/Ein-schenken',\n",
       "       'Tetras Tablett tragen', 'Tetras Schlüssel benutzen',\n",
       "       'Tetras Schreiben', 'Tetras Arbeiten',\n",
       "       'Tetras Tätigkeit mit schwerster Beeinträchti-gung',\n",
       "       'Tetras Grad der Beeinträchti-gung ',\n",
       "       'Tetras soziale Beeinträchti-gung', 'Tetras Gesamtscore Interview',\n",
       "       'Tetras Kopftremor', 'Tetras Gesichts-tremor', 'Tetras Stimm-tremor',\n",
       "       'Tetras Tremor OE ausgestreckt RE', 'Tetras Tremor OE ausgestreckt LI',\n",
       "       'Tetras Tremor OE Flügelschlag RE', 'Tetras Tremor OE Flügelschlag LI',\n",
       "       'Tetras Tremor OE kinet. Tremor RE',\n",
       "       'Tetras Tremor OE kinet. Tremor LI', 'Tetras Tremor UE',\n",
       "       'Tetras Archimedes RE', 'Tetras Archimedes LI', 'Tetras Handschrift',\n",
       "       'Tetras Punktan-näherung RE', 'Tetras Punktan-näherung LI',\n",
       "       'Tetras Tremor im Stehen', 'Tetras Gesamtscore Aufgaben-skala',\n",
       "       'Gesamtscore Tetras', 'group', 'Trial n', 'Feedback type',\n",
       "       'Feedback angle', 'Power [4-12]', 'Power [1-3]', 'Group'],\n",
       "      dtype='object')"
      ]
     },
     "execution_count": 21,
     "metadata": {},
     "output_type": "execute_result"
    }
   ],
   "source": [
    "full_set.columns"
   ]
  }
 ],
 "metadata": {
  "kernelspec": {
   "display_name": "Python 3.10.4 ('venv_tremor_feedback')",
   "language": "python",
   "name": "python3"
  },
  "language_info": {
   "codemirror_mode": {
    "name": "ipython",
    "version": 3
   },
   "file_extension": ".py",
   "mimetype": "text/x-python",
   "name": "python",
   "nbconvert_exporter": "python",
   "pygments_lexer": "ipython3",
   "version": "3.10.4"
  },
  "orig_nbformat": 4,
  "vscode": {
   "interpreter": {
    "hash": "ab9604f0a091bdb4ec6cc318eb9e4c1fbbcbff0881ac997b996efff61597bbb6"
   }
  }
 },
 "nbformat": 4,
 "nbformat_minor": 2
}
