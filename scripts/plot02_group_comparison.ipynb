{
 "cells": [
  {
   "cell_type": "code",
   "execution_count": 13,
   "metadata": {},
   "outputs": [],
   "source": [
    "%reload_ext autoreload\n",
    "%autoreload 2\n",
    "import numpy as np\n",
    "import pandas as pd\n",
    "from pathlib import Path\n",
    "import os\n",
    "from scipy import stats\n",
    "import seaborn as sns\n",
    "import warnings\n",
    "warnings.filterwarnings('ignore')\n",
    "\n",
    "# import config variables\n",
    "from src.config import dir_prep, cfg_colors\n",
    "from src.utl import remove_outliers_df\n"
   ]
  },
  {
   "cell_type": "code",
   "execution_count": 14,
   "metadata": {},
   "outputs": [],
   "source": [
    "# find all relevant files\n",
    "f_list = os.listdir(dir_prep)\n",
    "str_match = \".csv\"\n",
    "fnms = [s for s in f_list if str_match in s]"
   ]
  },
  {
   "cell_type": "code",
   "execution_count": 15,
   "metadata": {},
   "outputs": [],
   "source": [
    "# load data and merge pupil and fsr data\n",
    "dat_pupil = pd.read_csv(Path.joinpath(dir_prep,\"all_trials_pupil.csv\"), index_col=False)\n",
    "dat_fsr = pd.read_csv(Path.joinpath(dir_prep,\"all_trials_fsr.csv\"), index_col=False)\n",
    "\n",
    "full = pd.merge(dat_fsr, dat_pupil, on=[\"ID\",\"Trial n\",\"Group\",\"Feedback type\",\"Feedback angle\"])\n"
   ]
  },
  {
   "cell_type": "code",
   "execution_count": 16,
   "metadata": {},
   "outputs": [],
   "source": [
    "# clean out bad epochs from pupil data\n",
    "tt_pupil = full.copy()\n",
    "cfg_out_ppl_per = 30\n",
    "\n",
    "tt_pupil = tt_pupil.loc[tt_pupil[\"Percentage bad pupil samples\"] < cfg_out_ppl_per,:]"
   ]
  },
  {
   "attachments": {},
   "cell_type": "markdown",
   "metadata": {},
   "source": [
    "### evaluate differences epr participant for each condition interaction"
   ]
  },
  {
   "cell_type": "code",
   "execution_count": 17,
   "metadata": {},
   "outputs": [],
   "source": [
    "cfg_out_ppl_per = 25\n",
    "diff_data = full.copy()\n",
    "\n",
    "diff_data = diff_data.loc[diff_data[\"Percentage bad pupil samples\"] < cfg_out_ppl_per,:]\n",
    "diff_data = diff_data[['ID','Group', 'Feedback type', 'Feedback angle','Power [4-12]','Pupil size']]"
   ]
  },
  {
   "cell_type": "code",
   "execution_count": 18,
   "metadata": {},
   "outputs": [
    {
     "name": "stdout",
     "output_type": "stream",
     "text": [
      "Working on column: dPower\n"
     ]
    }
   ],
   "source": [
    "diffs = diff_data.pivot_table(index=['ID','Group','Feedback type'],columns='Feedback angle',values=['Power [4-12]','Pupil size'],margins=False,aggfunc='mean').reset_index()\n",
    "diffs['dPower'] = diffs['Power [4-12]']['high']-diffs['Power [4-12]']['low']\n",
    "diffs['dPpl'] = diffs['Pupil size']['high']-diffs['Pupil size']['low']\n",
    "diffs = remove_outliers_df(diffs,['dPower'],1)\n",
    "diffs['dPower'] = abs(diffs['dPower'])"
   ]
  },
  {
   "cell_type": "code",
   "execution_count": 19,
   "metadata": {},
   "outputs": [
    {
     "name": "stdout",
     "output_type": "stream",
     "text": [
      "Differences for group deltas in visual only for tremor is t[52]=38.00, p:0.103\n",
      "Differences for group deltas in auditiv-visual for tremor is t[52]=56.00, p:0.056\n",
      "Differences for group deltas in auditiv only for tremor is t[52]=39.00, p:0.163\n"
     ]
    }
   ],
   "source": [
    "df_vo = len(diffs['Feedback type'] == 'vo')\n",
    "df_va = len(diffs['Feedback type'] == 'va')\n",
    "df_ao = len(diffs['Feedback type'] == 'ao')\n",
    "\n",
    "t_pow_vo, p_pow_vo = stats.mannwhitneyu(diffs['dPower'][np.logical_and(diffs['Feedback type'] == 'vo', diffs['Group'] == 'p')],diffs['dPower'][np.logical_and(diffs['Feedback type'] == 'vo', diffs['Group'] == 'c')])\n",
    "print(f'Differences for group deltas in visual only for tremor is t[{df_vo}]={t_pow_vo:.2f}, p:{p_pow_vo:.3f}')\n",
    "t_pow_av, p_pow_av = stats.mannwhitneyu(diffs['dPower'][np.logical_and(diffs['Feedback type'] == 'va', diffs['Group'] == 'p')],diffs['dPower'][np.logical_and(diffs['Feedback type'] == 'va', diffs['Group'] == 'c')])\n",
    "print(f'Differences for group deltas in auditiv-visual for tremor is t[{df_va}]={t_pow_av:.2f}, p:{p_pow_av:.3f}')\n",
    "t_pow_ao, p_pow_ao = stats.mannwhitneyu(diffs['dPower'][np.logical_and(diffs['Feedback type'] == 'ao', diffs['Group'] == 'p')],diffs['dPower'][np.logical_and(diffs['Feedback type'] == 'ao', diffs['Group'] == 'c')])\n",
    "print(f'Differences for group deltas in auditiv only for tremor is t[{df_ao}]={t_pow_ao:.2f}, p:{p_pow_ao:.3f}')\n",
    "\n"
   ]
  },
  {
   "cell_type": "code",
   "execution_count": 20,
   "metadata": {},
   "outputs": [
    {
     "name": "stdout",
     "output_type": "stream",
     "text": [
      "Differences for group deltas in visual only for pupil size is t[52]=20.00, p:0.684\n",
      "Differences for group deltas in auditiv-visual for pupil size is t[52]=nan, p:nan\n",
      "Differences for group deltas in auditiv only for pupil size is t[52]=24.00, p:0.871\n"
     ]
    }
   ],
   "source": [
    "t_ppl_vo, p_ppl_vo = stats.mannwhitneyu(diffs['dPpl'][np.logical_and(diffs['Feedback type'] == 'vo', diffs['Group'] == 'p')],diffs['dPower'][np.logical_and(diffs['Feedback type'] == 'vo', diffs['Group'] == 'c')])\n",
    "print(f'Differences for group deltas in visual only for pupil size is t[{df_vo}]={t_ppl_vo:.2f}, p:{p_ppl_vo:.3f}')\n",
    "t_ppl_av, p_ppl_av = stats.mannwhitneyu(diffs['dPpl'][np.logical_and(diffs['Feedback type'] == 'va', diffs['Group'] == 'p')],diffs['dPower'][np.logical_and(diffs['Feedback type'] == 'va', diffs['Group'] == 'c')])\n",
    "print(f'Differences for group deltas in auditiv-visual for pupil size is t[{df_va}]={t_ppl_av:.2f}, p:{p_ppl_av:.3f}')\n",
    "t_ppl_ao, p_ppl_ao = stats.mannwhitneyu(diffs['dPpl'][np.logical_and(diffs['Feedback type'] == 'ao', diffs['Group'] == 'p')],diffs['dPower'][np.logical_and(diffs['Feedback type'] == 'ao', diffs['Group'] == 'c')])\n",
    "print(f'Differences for group deltas in auditiv only for pupil size is t[{df_ao}]={t_ppl_ao:.2f}, p:{p_ppl_ao:.3f}')\n"
   ]
  },
  {
   "cell_type": "code",
   "execution_count": 21,
   "metadata": {},
   "outputs": [
    {
     "ename": "KeyError",
     "evalue": "'group_colors'",
     "output_type": "error",
     "traceback": [
      "\u001b[1;31m---------------------------------------------------------------------------\u001b[0m",
      "\u001b[1;31mKeyError\u001b[0m                                  Traceback (most recent call last)",
      "\u001b[1;32mc:\\Users\\User\\Desktop\\kiel\\tremor_feedback_jw\\scripts\\plot02_group_comparison.ipynb Cell 10\u001b[0m in \u001b[0;36m<cell line: 1>\u001b[1;34m()\u001b[0m\n\u001b[1;32m----> <a href='vscode-notebook-cell:/c%3A/Users/User/Desktop/kiel/tremor_feedback_jw/scripts/plot02_group_comparison.ipynb#X12sZmlsZQ%3D%3D?line=0'>1</a>\u001b[0m sns\u001b[39m.\u001b[39mboxplot(data \u001b[39m=\u001b[39m diffs, x \u001b[39m=\u001b[39m \u001b[39m'\u001b[39m\u001b[39mFeedback type\u001b[39m\u001b[39m'\u001b[39m, y \u001b[39m=\u001b[39m \u001b[39m'\u001b[39m\u001b[39mdPower\u001b[39m\u001b[39m'\u001b[39m, hue\u001b[39m=\u001b[39m\u001b[39m'\u001b[39m\u001b[39mGroup\u001b[39m\u001b[39m'\u001b[39m, width\u001b[39m=\u001b[39m\u001b[39m.6\u001b[39m,palette\u001b[39m=\u001b[39mcfg_colors[\u001b[39m\"\u001b[39;49m\u001b[39mgroup_colors\u001b[39;49m\u001b[39m\"\u001b[39;49m])\n\u001b[0;32m      <a href='vscode-notebook-cell:/c%3A/Users/User/Desktop/kiel/tremor_feedback_jw/scripts/plot02_group_comparison.ipynb#X12sZmlsZQ%3D%3D?line=1'>2</a>\u001b[0m sns\u001b[39m.\u001b[39mstripplot(data \u001b[39m=\u001b[39m diffs, x \u001b[39m=\u001b[39m \u001b[39m'\u001b[39m\u001b[39mFeedback type\u001b[39m\u001b[39m'\u001b[39m, y \u001b[39m=\u001b[39m \u001b[39m'\u001b[39m\u001b[39mdPower\u001b[39m\u001b[39m'\u001b[39m, hue\u001b[39m=\u001b[39m\u001b[39m'\u001b[39m\u001b[39mGroup\u001b[39m\u001b[39m'\u001b[39m,size\u001b[39m=\u001b[39m\u001b[39m4\u001b[39m, color\u001b[39m=\u001b[39m\u001b[39m\"\u001b[39m\u001b[39m.3\u001b[39m\u001b[39m\"\u001b[39m, linewidth\u001b[39m=\u001b[39m\u001b[39m0\u001b[39m,dodge\u001b[39m=\u001b[39m\u001b[39mTrue\u001b[39;00m)\n",
      "\u001b[1;31mKeyError\u001b[0m: 'group_colors'"
     ]
    }
   ],
   "source": [
    "sns.boxplot(data = diffs, x = 'Feedback type', y = 'dPower', hue='Group', width=.6,palette=cfg_colors[\"group_colors\"])\n",
    "sns.stripplot(data = diffs, x = 'Feedback type', y = 'dPower', hue='Group',size=4, color=\".3\", linewidth=0,dodge=True)"
   ]
  },
  {
   "cell_type": "code",
   "execution_count": null,
   "metadata": {},
   "outputs": [],
   "source": []
  }
 ],
 "metadata": {
  "kernelspec": {
   "display_name": "venv_tremor_feedback",
   "language": "python",
   "name": "python3"
  },
  "language_info": {
   "codemirror_mode": {
    "name": "ipython",
    "version": 3
   },
   "file_extension": ".py",
   "mimetype": "text/x-python",
   "name": "python",
   "nbconvert_exporter": "python",
   "pygments_lexer": "ipython3",
   "version": "3.10.4"
  },
  "orig_nbformat": 4,
  "vscode": {
   "interpreter": {
    "hash": "ab9604f0a091bdb4ec6cc318eb9e4c1fbbcbff0881ac997b996efff61597bbb6"
   }
  }
 },
 "nbformat": 4,
 "nbformat_minor": 2
}
