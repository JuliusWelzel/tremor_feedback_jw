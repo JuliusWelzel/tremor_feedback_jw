{
 "cells": [
  {
   "cell_type": "code",
   "execution_count": 50,
   "metadata": {},
   "outputs": [],
   "source": [
    "%reload_ext autoreload\n",
    "%autoreload 2\n",
    "import warnings\n",
    "warnings.filterwarnings('ignore')\n",
    "\n",
    "from pathlib import Path\n",
    "import numpy as np\n",
    "from scipy import stats\n",
    "import pandas as pd\n",
    "import seaborn as sns\n",
    "import matplotlib.pyplot as plt\n",
    "\n",
    "# Increase the resolution of all the plots below\n",
    "plt.rcParams.update({\"figure.dpi\": 300,\"figure.facecolor\":\"w\",\"figure.figsize\": (15,10)})\n",
    "\n",
    "from src.utl import remove_outliers_df, nan_pearsonr, remove_outliers\n",
    "from src.config import dir_rawdata, dir_prep, dir_plots_group_cmpr, cfg_colors\n"
   ]
  },
  {
   "cell_type": "code",
   "execution_count": 10,
   "metadata": {},
   "outputs": [],
   "source": [
    "# set colors for plotting \n",
    "cc_low = cfg_colors[\"group_colors\"][0]\n",
    "cc_high = cfg_colors[\"group_colors\"][1]"
   ]
  },
  {
   "cell_type": "markdown",
   "metadata": {},
   "source": [
    "## set path and merge data"
   ]
  },
  {
   "cell_type": "code",
   "execution_count": 11,
   "metadata": {},
   "outputs": [],
   "source": [
    "dat_pupil = pd.read_csv(Path.joinpath(dir_prep,\"all_trials_pupil.csv\"), index_col=False)\n",
    "dat_fsr = pd.read_csv(Path.joinpath(dir_prep,\"all_trials_fsr.csv\"), index_col=False)\n",
    "dat_clin = pd.read_excel(Path.joinpath(dir_rawdata,\"behav_data.xlsx\"), index_col=False)\n",
    "\n",
    "physio = pd.merge(dat_fsr,dat_pupil)"
   ]
  },
  {
   "cell_type": "code",
   "execution_count": 12,
   "metadata": {},
   "outputs": [],
   "source": [
    "# clean data\n",
    "all = dat_clin[dat_clin[\"ID\"].str.contains(\"p2|c3\")]\n",
    "all[\"group\"] = all.ID.str[0]\n"
   ]
  },
  {
   "cell_type": "code",
   "execution_count": 13,
   "metadata": {},
   "outputs": [],
   "source": [
    "full_set = all.merge(physio)\n",
    "idx_pat = full_set.group == \"p\"\n",
    "\n",
    "pat = full_set[idx_pat]\n",
    "hc = full_set[~idx_pat]"
   ]
  },
  {
   "cell_type": "code",
   "execution_count": 14,
   "metadata": {},
   "outputs": [
    {
     "name": "stdout",
     "output_type": "stream",
     "text": [
      "Index(['ID', 'Alter', 'Geschlecht', 'Krankheitsdauer', 'BDI-Score',\n",
      "       'Schahmann semantische Wortflüssigkeit',\n",
      "       'Schahmann phonematische Wortflüssigkeit',\n",
      "       'Schahmann Kategorie-Wechsel', 'Schahmann Zahlen-spanne vorwärts',\n",
      "       'Schahmann Zahlen-spanne rückwärts', 'Schahmann Würfel ',\n",
      "       'Schahmann verbaler Abruf', 'Schahmann Gemeinsam-keiten',\n",
      "       'Schahmann Go/No-Go', 'Schahmann Affekt',\n",
      "       'Schahmann Gesamtwert Aufgaben', 'Schahmann Gesamtwert Module',\n",
      "       'Tetras Sprechen', 'Tetras mit dem Löffel essen',\n",
      "       'Tetras aus einem Glas trinken', 'Tetras Körper-hygiene',\n",
      "       'Tetras Ankleiden', 'Tetras Schütten/Ein-schenken',\n",
      "       'Tetras Tablett tragen', 'Tetras Schlüssel benutzen',\n",
      "       'Tetras Schreiben', 'Tetras Arbeiten',\n",
      "       'Tetras Tätigkeit mit schwerster Beeinträchti-gung',\n",
      "       'Tetras Grad der Beeinträchti-gung ',\n",
      "       'Tetras soziale Beeinträchti-gung', 'Tetras Gesamtscore Interview',\n",
      "       'Tetras Kopftremor', 'Tetras Gesichts-tremor', 'Tetras Stimm-tremor',\n",
      "       'Tetras Tremor OE ausgestreckt RE', 'Tetras Tremor OE ausgestreckt LI',\n",
      "       'Tetras Tremor OE Flügelschlag RE', 'Tetras Tremor OE Flügelschlag LI',\n",
      "       'Tetras Tremor OE kinet. Tremor RE',\n",
      "       'Tetras Tremor OE kinet. Tremor LI', 'Tetras Tremor UE',\n",
      "       'Tetras Archimedes RE', 'Tetras Archimedes LI', 'Tetras Handschrift',\n",
      "       'Tetras Punktan-näherung RE', 'Tetras Punktan-näherung LI',\n",
      "       'Tetras Tremor im Stehen', 'Tetras Gesamtscore Aufgaben-skala',\n",
      "       'Gesamtscore Tetras', 'group', 'Trial n', 'Feedback type',\n",
      "       'Feedback angle', 'Power [4-12]', 'Power [1-3]', 'Group', 'Pupil size',\n",
      "       'Percentage bad pupil samples'],\n",
      "      dtype='object')\n"
     ]
    }
   ],
   "source": [
    "print(pat.columns)"
   ]
  },
  {
   "cell_type": "code",
   "execution_count": 15,
   "metadata": {},
   "outputs": [],
   "source": [
    "diffs = pat.pivot_table(index=['ID','Group','Feedback type'],columns='Feedback angle',values=['Power [4-12]','Pupil size'],margins=False,aggfunc='mean').reset_index()\n",
    "diffs['dPower'] = diffs['Power [4-12]']['high']-diffs['Power [4-12]']['low']\n",
    "diffs['dPpl'] = diffs['Pupil size']['high']-diffs['Pupil size']['low']\n",
    "diffs['dPower'] = abs(diffs['dPower'])"
   ]
  },
  {
   "cell_type": "code",
   "execution_count": 16,
   "metadata": {},
   "outputs": [
    {
     "name": "stdout",
     "output_type": "stream",
     "text": [
      "MultiIndex([(           'ID',     ''),\n",
      "            (        'Group',     ''),\n",
      "            ('Feedback type',     ''),\n",
      "            ( 'Power [4-12]', 'high'),\n",
      "            ( 'Power [4-12]',  'low'),\n",
      "            (   'Pupil size', 'high'),\n",
      "            (   'Pupil size',  'low'),\n",
      "            (       'dPower',     ''),\n",
      "            (         'dPpl',     '')],\n",
      "           names=[None, 'Feedback angle'])\n"
     ]
    }
   ],
   "source": [
    "print(diffs.columns)"
   ]
  },
  {
   "cell_type": "code",
   "execution_count": 17,
   "metadata": {},
   "outputs": [
    {
     "data": {
      "text/html": [
       "<div>\n",
       "<style scoped>\n",
       "    .dataframe tbody tr th:only-of-type {\n",
       "        vertical-align: middle;\n",
       "    }\n",
       "\n",
       "    .dataframe tbody tr th {\n",
       "        vertical-align: top;\n",
       "    }\n",
       "\n",
       "    .dataframe thead th {\n",
       "        text-align: right;\n",
       "    }\n",
       "</style>\n",
       "<table border=\"1\" class=\"dataframe\">\n",
       "  <thead>\n",
       "    <tr style=\"text-align: right;\">\n",
       "      <th></th>\n",
       "      <th>ID</th>\n",
       "      <th>Alter</th>\n",
       "      <th>Geschlecht</th>\n",
       "      <th>Krankheitsdauer</th>\n",
       "      <th>BDI-Score</th>\n",
       "      <th>Schahmann semantische Wortflüssigkeit</th>\n",
       "      <th>Schahmann phonematische Wortflüssigkeit</th>\n",
       "      <th>Schahmann Kategorie-Wechsel</th>\n",
       "      <th>Schahmann Zahlen-spanne vorwärts</th>\n",
       "      <th>Schahmann Zahlen-spanne rückwärts</th>\n",
       "      <th>...</th>\n",
       "      <th>Gesamtscore Tetras</th>\n",
       "      <th>group</th>\n",
       "      <th>Trial n</th>\n",
       "      <th>Feedback type</th>\n",
       "      <th>Feedback angle</th>\n",
       "      <th>Power [4-12]</th>\n",
       "      <th>Power [1-3]</th>\n",
       "      <th>Group</th>\n",
       "      <th>Pupil size</th>\n",
       "      <th>Percentage bad pupil samples</th>\n",
       "    </tr>\n",
       "  </thead>\n",
       "  <tbody>\n",
       "    <tr>\n",
       "      <th>0</th>\n",
       "      <td>p214</td>\n",
       "      <td>NaN</td>\n",
       "      <td>NaN</td>\n",
       "      <td>NaN</td>\n",
       "      <td>NaN</td>\n",
       "      <td>24</td>\n",
       "      <td>15</td>\n",
       "      <td>13</td>\n",
       "      <td>6</td>\n",
       "      <td>5</td>\n",
       "      <td>...</td>\n",
       "      <td>NaN</td>\n",
       "      <td>p</td>\n",
       "      <td>0</td>\n",
       "      <td>vo</td>\n",
       "      <td>low</td>\n",
       "      <td>1.270050e-07</td>\n",
       "      <td>0.000053</td>\n",
       "      <td>p</td>\n",
       "      <td>0.325861</td>\n",
       "      <td>1.409091</td>\n",
       "    </tr>\n",
       "    <tr>\n",
       "      <th>1</th>\n",
       "      <td>p214</td>\n",
       "      <td>NaN</td>\n",
       "      <td>NaN</td>\n",
       "      <td>NaN</td>\n",
       "      <td>NaN</td>\n",
       "      <td>24</td>\n",
       "      <td>15</td>\n",
       "      <td>13</td>\n",
       "      <td>6</td>\n",
       "      <td>5</td>\n",
       "      <td>...</td>\n",
       "      <td>NaN</td>\n",
       "      <td>p</td>\n",
       "      <td>1</td>\n",
       "      <td>vo</td>\n",
       "      <td>low</td>\n",
       "      <td>2.389101e-07</td>\n",
       "      <td>0.000054</td>\n",
       "      <td>p</td>\n",
       "      <td>0.368568</td>\n",
       "      <td>1.818182</td>\n",
       "    </tr>\n",
       "    <tr>\n",
       "      <th>2</th>\n",
       "      <td>p214</td>\n",
       "      <td>NaN</td>\n",
       "      <td>NaN</td>\n",
       "      <td>NaN</td>\n",
       "      <td>NaN</td>\n",
       "      <td>24</td>\n",
       "      <td>15</td>\n",
       "      <td>13</td>\n",
       "      <td>6</td>\n",
       "      <td>5</td>\n",
       "      <td>...</td>\n",
       "      <td>NaN</td>\n",
       "      <td>p</td>\n",
       "      <td>2</td>\n",
       "      <td>vo</td>\n",
       "      <td>high</td>\n",
       "      <td>6.601151e-08</td>\n",
       "      <td>0.000056</td>\n",
       "      <td>p</td>\n",
       "      <td>0.182429</td>\n",
       "      <td>1.818182</td>\n",
       "    </tr>\n",
       "    <tr>\n",
       "      <th>3</th>\n",
       "      <td>p214</td>\n",
       "      <td>NaN</td>\n",
       "      <td>NaN</td>\n",
       "      <td>NaN</td>\n",
       "      <td>NaN</td>\n",
       "      <td>24</td>\n",
       "      <td>15</td>\n",
       "      <td>13</td>\n",
       "      <td>6</td>\n",
       "      <td>5</td>\n",
       "      <td>...</td>\n",
       "      <td>NaN</td>\n",
       "      <td>p</td>\n",
       "      <td>3</td>\n",
       "      <td>vo</td>\n",
       "      <td>high</td>\n",
       "      <td>1.076244e-07</td>\n",
       "      <td>0.000056</td>\n",
       "      <td>p</td>\n",
       "      <td>0.098450</td>\n",
       "      <td>2.590909</td>\n",
       "    </tr>\n",
       "    <tr>\n",
       "      <th>4</th>\n",
       "      <td>p214</td>\n",
       "      <td>NaN</td>\n",
       "      <td>NaN</td>\n",
       "      <td>NaN</td>\n",
       "      <td>NaN</td>\n",
       "      <td>24</td>\n",
       "      <td>15</td>\n",
       "      <td>13</td>\n",
       "      <td>6</td>\n",
       "      <td>5</td>\n",
       "      <td>...</td>\n",
       "      <td>NaN</td>\n",
       "      <td>p</td>\n",
       "      <td>4</td>\n",
       "      <td>va</td>\n",
       "      <td>low</td>\n",
       "      <td>1.312593e-07</td>\n",
       "      <td>0.000052</td>\n",
       "      <td>p</td>\n",
       "      <td>0.137279</td>\n",
       "      <td>3.590909</td>\n",
       "    </tr>\n",
       "  </tbody>\n",
       "</table>\n",
       "<p>5 rows × 58 columns</p>\n",
       "</div>"
      ],
      "text/plain": [
       "     ID  Alter Geschlecht  Krankheitsdauer  BDI-Score  \\\n",
       "0  p214    NaN        NaN              NaN        NaN   \n",
       "1  p214    NaN        NaN              NaN        NaN   \n",
       "2  p214    NaN        NaN              NaN        NaN   \n",
       "3  p214    NaN        NaN              NaN        NaN   \n",
       "4  p214    NaN        NaN              NaN        NaN   \n",
       "\n",
       "   Schahmann semantische Wortflüssigkeit  \\\n",
       "0                                     24   \n",
       "1                                     24   \n",
       "2                                     24   \n",
       "3                                     24   \n",
       "4                                     24   \n",
       "\n",
       "   Schahmann phonematische Wortflüssigkeit  Schahmann Kategorie-Wechsel  \\\n",
       "0                                       15                           13   \n",
       "1                                       15                           13   \n",
       "2                                       15                           13   \n",
       "3                                       15                           13   \n",
       "4                                       15                           13   \n",
       "\n",
       "   Schahmann Zahlen-spanne vorwärts  Schahmann Zahlen-spanne rückwärts  ...  \\\n",
       "0                                 6                                  5  ...   \n",
       "1                                 6                                  5  ...   \n",
       "2                                 6                                  5  ...   \n",
       "3                                 6                                  5  ...   \n",
       "4                                 6                                  5  ...   \n",
       "\n",
       "   Gesamtscore Tetras group  Trial n Feedback type Feedback angle  \\\n",
       "0                 NaN     p        0            vo            low   \n",
       "1                 NaN     p        1            vo            low   \n",
       "2                 NaN     p        2            vo           high   \n",
       "3                 NaN     p        3            vo           high   \n",
       "4                 NaN     p        4            va            low   \n",
       "\n",
       "   Power [4-12]  Power [1-3]  Group  Pupil size  Percentage bad pupil samples  \n",
       "0  1.270050e-07     0.000053      p    0.325861                      1.409091  \n",
       "1  2.389101e-07     0.000054      p    0.368568                      1.818182  \n",
       "2  6.601151e-08     0.000056      p    0.182429                      1.818182  \n",
       "3  1.076244e-07     0.000056      p    0.098450                      2.590909  \n",
       "4  1.312593e-07     0.000052      p    0.137279                      3.590909  \n",
       "\n",
       "[5 rows x 58 columns]"
      ]
     },
     "execution_count": 17,
     "metadata": {},
     "output_type": "execute_result"
    }
   ],
   "source": [
    "pat.head()"
   ]
  },
  {
   "attachments": {},
   "cell_type": "markdown",
   "metadata": {},
   "source": [
    "## check Tremor power vs. TETRAS "
   ]
  },
  {
   "cell_type": "code",
   "execution_count": 51,
   "metadata": {},
   "outputs": [],
   "source": [
    "\n",
    "# calculate the mean power per feedback condition for low angle\n",
    "pow_low_vo = remove_outliers(pat[np.logical_and(pat[\"Feedback angle\"] == 'low', pat[\"Feedback type\"] == 'vo')].groupby(\"ID\")[\"Power [4-12]\"].mean(),1)\n",
    "pow_low_va = remove_outliers(pat[np.logical_and(pat[\"Feedback angle\"] == 'low', pat[\"Feedback type\"] == 'va')].groupby(\"ID\")[\"Power [4-12]\"].mean(),1)\n",
    "pow_low_ao = remove_outliers(pat[np.logical_and(pat[\"Feedback angle\"] == 'low', pat[\"Feedback type\"] == 'ao')].groupby(\"ID\")[\"Power [4-12]\"].mean(),1)\n",
    "\n",
    "# calculate the mean power per feedback condition as difference between angles\n",
    "pow_diff_vo =  pat[np.logical_and(pat[\"Feedback angle\"] == 'high', pat[\"Feedback type\"] == 'vo')].groupby(\"ID\")[\"Power [4-12]\"].mean() - pow_low_vo\n",
    "pow_diff_va =  pat[np.logical_and(pat[\"Feedback angle\"] == 'high', pat[\"Feedback type\"] == 'va')].groupby(\"ID\")[\"Power [4-12]\"].mean() - pow_low_va\n",
    "pow_diff_ao =  pat[np.logical_and(pat[\"Feedback angle\"] == 'high', pat[\"Feedback type\"] == 'ao')].groupby(\"ID\")[\"Power [4-12]\"].mean() - pow_low_ao\n",
    "\n",
    "pow_vars = [pow_low_vo, pow_low_va, pow_low_ao, pow_diff_vo, pow_diff_va, pow_diff_ao]\n",
    "\n",
    "\n",
    "# Tetras total score per patient\n",
    "tetras = pat.groupby(\"ID\")[\"Gesamtscore Tetras\"].mean()\n",
    "\n",
    "# TO DO:All TETRAS OE items (TETRAS Hand Score)"
   ]
  },
  {
   "cell_type": "code",
   "execution_count": 52,
   "metadata": {},
   "outputs": [],
   "source": [
    "vars_tetras_hand = ['Tetras Tremor OE ausgestreckt RE', 'Tetras Tremor OE ausgestreckt LI',\n",
    "'Tetras Tremor OE Flügelschlag RE', 'Tetras Tremor OE Flügelschlag LI',\n",
    "'Tetras Tremor OE kinet. Tremor RE',\n",
    "'Tetras Tremor OE kinet. Tremor LI',]\n",
    "\n",
    "# Tetras total score per patient\n",
    "hand_tetras = pat.groupby(\"ID\")[vars_tetras_hand].mean()\n",
    "hand_tetras = hand_tetras.sum(axis=1)"
   ]
  },
  {
   "cell_type": "code",
   "execution_count": 62,
   "metadata": {},
   "outputs": [
    {
     "name": "stdout",
     "output_type": "stream",
     "text": [
      "The correlation of Tremor Power in visual only, low feedback and TETRAS Hand Score is r = 0.3506, p = 0.18\n",
      "The correlation of Tremor Power in auditiv-visual, low feedback and TETRAS Hand Score is r = 0.3790, p = 0.15\n",
      "The correlation of Tremor Power in auditiv only, low feedback and TETRAS Hand Score is r = 0.6020, p = 0.01\n",
      "The correlation of Tremor Power in auditiv only feedback, low-high and TETRAS Hand Score is r = 0.3286, p = 0.21\n"
     ]
    }
   ],
   "source": [
    "r, p = nan_pearsonr(pow_low_vo, hand_tetras)\n",
    "print(f\"The correlation of Tremor Power in visual only, low feedback and TETRAS Hand Score is r = {r:.4f}, p = {p:.2f}\")\n",
    "r, p = nan_pearsonr(pow_low_va, hand_tetras)\n",
    "print(f\"The correlation of Tremor Power in auditiv-visual, low feedback and TETRAS Hand Score is r = {r:.4f}, p = {p:.2f}\")\n",
    "r, p = nan_pearsonr(pow_low_ao, hand_tetras)\n",
    "print(f\"The correlation of Tremor Power in auditiv only, low feedback and TETRAS Hand Score is r = {r:.4f}, p = {p:.2f}\")\n",
    "\n",
    "r, p = nan_pearsonr(pow_diff_ao, hand_tetras)\n",
    "print(f\"The correlation of Tremor Power in auditiv only feedback, low-high and TETRAS Hand Score is r = {r:.4f}, p = {p:.2f}\")\n"
   ]
  },
  {
   "cell_type": "markdown",
   "metadata": {},
   "source": [
    "## check Tremor pupil vs. TETRAS "
   ]
  },
  {
   "cell_type": "code",
   "execution_count": 28,
   "metadata": {},
   "outputs": [],
   "source": [
    "\n",
    "# calculate the mean power per feedback condition for low angle\n",
    "pup_low_vo = pat[np.logical_and(pat[\"Feedback angle\"] == 'low', pat[\"Feedback type\"] == 'vo')].groupby(\"ID\")[\"Pupil size\"].mean()\n",
    "pup_low_va = pat[np.logical_and(pat[\"Feedback angle\"] == 'low', pat[\"Feedback type\"] == 'va')].groupby(\"ID\")[\"Pupil size\"].mean()\n",
    "pup_low_ao = pat[np.logical_and(pat[\"Feedback angle\"] == 'low', pat[\"Feedback type\"] == 'ao')].groupby(\"ID\")[\"Pupil size\"].mean()\n",
    "\n",
    "# calculate the mean power per feedback condition as difference between angles\n",
    "pup_diff_vo =  pat[np.logical_and(pat[\"Feedback angle\"] == 'high', pat[\"Feedback type\"] == 'vo')].groupby(\"ID\")[\"Pupil size\"].mean() - pow_low_vo\n",
    "pup_diff_va =  pat[np.logical_and(pat[\"Feedback angle\"] == 'high', pat[\"Feedback type\"] == 'va')].groupby(\"ID\")[\"Pupil size\"].mean() - pow_low_va\n",
    "pup_diff_ao =  pat[np.logical_and(pat[\"Feedback angle\"] == 'high', pat[\"Feedback type\"] == 'ao')].groupby(\"ID\")[\"Pupil size\"].mean() - pow_low_ao\n",
    "\n",
    "pup_vars = [pup_low_vo, pup_low_va, pup_low_ao, pup_diff_vo, pup_diff_va, pup_diff_ao]\n",
    "\n",
    "# Tetras total score per patient\n",
    "tetras = pat.groupby(\"ID\")[\"Gesamtscore Tetras\"].mean()\n",
    "# TO DO: All TETRAS OE items (TETRAS Hand Score)"
   ]
  },
  {
   "cell_type": "code",
   "execution_count": 60,
   "metadata": {},
   "outputs": [
    {
     "name": "stdout",
     "output_type": "stream",
     "text": [
      "The correlation of Pupil Size in visual only, low feedback and TETRAS Hand Score is r = -0.2431, p = 0.36\n",
      "The correlation of Pupil Size in auditiv-visual, low feedback and TETRAS Hand Score is r = 0.0319, p = 0.91\n",
      "The correlation of Pupil Size in auditiv only, low feedback and TETRAS Hand Score is r = 0.1323, p = 0.63\n"
     ]
    }
   ],
   "source": [
    "r, p = nan_pearsonr(pup_low_vo, hand_tetras)\n",
    "print(f\"The correlation of Pupil Size in visual only, low feedback and TETRAS Hand Score is r = {r:.4f}, p = {p:.2f}\")\n",
    "r, p = nan_pearsonr(pup_low_va, hand_tetras)\n",
    "print(f\"The correlation of Pupil Size in auditiv-visual, low feedback and TETRAS Hand Score is r = {r:.4f}, p = {p:.2f}\")\n",
    "r, p = nan_pearsonr(pup_low_ao, hand_tetras)\n",
    "print(f\"The correlation of Pupil Size in auditiv only, low feedback and TETRAS Hand Score is r = {r:.4f}, p = {p:.2f}\")\n",
    "\n"
   ]
  },
  {
   "attachments": {},
   "cell_type": "markdown",
   "metadata": {},
   "source": [
    "## check pupil tremor low condition"
   ]
  },
  {
   "cell_type": "code",
   "execution_count": 31,
   "metadata": {},
   "outputs": [
    {
     "name": "stdout",
     "output_type": "stream",
     "text": [
      "r = -0.03, p = 0.91\n",
      "r = 0.24, p = 0.37\n",
      "r = -0.13, p = 0.62\n"
     ]
    }
   ],
   "source": [
    "pup_vars = [pup_low_vo, pup_low_va, pup_low_ao]\n",
    "pow_vars = [pow_low_vo, pow_low_va, pow_low_ao]\n",
    "\n",
    "for vp, vt in zip(pup_vars ,pow_vars):\n",
    "    r, p = nan_pearsonr(vp, vt)\n",
    "\n",
    "    print(f\"r = {r:.2f}, p = {p:.2f}\")"
   ]
  }
 ],
 "metadata": {
  "kernelspec": {
   "display_name": "Python 3.10.4 ('venv_tremor_feedback')",
   "language": "python",
   "name": "python3"
  },
  "language_info": {
   "codemirror_mode": {
    "name": "ipython",
    "version": 3
   },
   "file_extension": ".py",
   "mimetype": "text/x-python",
   "name": "python",
   "nbconvert_exporter": "python",
   "pygments_lexer": "ipython3",
   "version": "3.10.4"
  },
  "orig_nbformat": 4,
  "vscode": {
   "interpreter": {
    "hash": "ab9604f0a091bdb4ec6cc318eb9e4c1fbbcbff0881ac997b996efff61597bbb6"
   }
  }
 },
 "nbformat": 4,
 "nbformat_minor": 2
}
